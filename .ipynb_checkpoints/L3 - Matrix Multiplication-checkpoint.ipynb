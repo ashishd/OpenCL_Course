{
 "cells": [
  {
   "cell_type": "markdown",
   "id": "2e9fcee9-6cab-4b5a-b6a6-9cf05e379fc0",
   "metadata": {},
   "source": [
    "# OpenCl application walkthrough - Matrix Multiplication\n",
    "\n",
    "Often it is helpful to see a complete example that is fully explained in every detail. Matrix multiplication is a commonly employed compute operation and we can use it for a complete example with OpenCL. "
   ]
  },
  {
   "cell_type": "markdown",
   "id": "1e319bef-cc22-4bd4-a27d-f88ea8a263bd",
   "metadata": {},
   "source": [
    "The source code for the example is in [src/L3_Matrix_Multiplication/mat_mult.cpp](src/L3_Matrix_Multiplication/mat_mult.cpp) click on the link and open up the file\n",
    "\n"
   ]
  },
  {
   "cell_type": "code",
   "execution_count": 2,
   "id": "ba97c8c2-1b2a-480d-9ca5-e8bd6425dae8",
   "metadata": {},
   "outputs": [],
   "source": [
    "import numpy as np\n",
    "\n",
    "from matplotlib import pyplot as plt\n",
    "\n",
    "%matplotlib widget\n",
    "\n",
    "# A is of size (NROWS_C, NCOLS_A)\n",
    "# B is of size (NCOLS_A, NCOLS_C)    \n",
    "# C is of size (NROWS_C, NCOLS_C)\n",
    "\n",
    "NCOLS_A = 256\n",
    "NROWS_C = 512\n",
    "NCOLS_C = 1024\n",
    "\n",
    "# Data type\n",
    "dtype = np.float32\n",
    "\n",
    "# Make up the arrays A, B, and C\n",
    "A = np.random.random(size = (NROWS_C, NCOLS_A)).astype(dtype)\n",
    "B = np.random.random(size = (NCOLS_A, NCOLS_C)).astype(dtype)\n",
    "\n",
    "# Make up the answer\n",
    "C = np.matmul(A, B, dtype = dtype)\n",
    "\n"
   ]
  },
  {
   "cell_type": "code",
   "execution_count": null,
   "id": "3a146af2-60ac-4911-9ec4-fa401252cc20",
   "metadata": {},
   "outputs": [],
   "source": []
  }
 ],
 "metadata": {
  "kernelspec": {
   "display_name": "Python 3",
   "language": "python",
   "name": "python3"
  },
  "language_info": {
   "codemirror_mode": {
    "name": "ipython",
    "version": 3
   },
   "file_extension": ".py",
   "mimetype": "text/x-python",
   "name": "python",
   "nbconvert_exporter": "python",
   "pygments_lexer": "ipython3",
   "version": "3.8.8"
  }
 },
 "nbformat": 4,
 "nbformat_minor": 5
}
