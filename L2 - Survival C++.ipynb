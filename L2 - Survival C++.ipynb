{
 "cells": [
  {
   "cell_type": "markdown",
   "id": "01a35a26-42ca-450e-9c15-30c9cb9f82d8",
   "metadata": {},
   "source": [
    "# Survival C++ and how to use it to work with data\n",
    "\n",
    "In order to understand the course material we need to have a grasp on the small subset of C++ that is used. Although C++ is the language of choice for many real-world scientific applications, it is more complex to understand than plain C, and can potentially introduce uncecessary complexity that may get in the way of effectively grasping the course material. This course will use mostly the C subset of the C++ language, however we use C++ compilers and tools so that we can use more advanced C++ features if convenient.\n",
    "\n",
    "## Comments\n",
    "\n",
    "Comments in C++ begin with two forward slashes //. Anything after the two forward slashes is ignored for the rest of the line.\n",
    "\n",
    "```C++\n",
    "// This is a comment\n",
    "```\n",
    "\n",
    "## Statements and code blocks\n",
    "\n",
    "A statement is a line of code. Since C++ doesn't use new lines to separate statements then every statement must have an ending, C++ uses the semicolon \";\" character to end statements.\n",
    "\n",
    "```C++\n",
    "// This is a statement that declares and integer with value 2\n",
    "int a = 2;\n",
    "```\n",
    "\n",
    "**Code blocks** are collections of statements enclosed by a starting brace \"{\", and ending with an end brace \"}\". Variables declared within code blocks do not exist outside their enclosing code block.\n",
    "\n",
    "```C++\n",
    "{ // Starting a code block\n",
    "    int a = 2;\n",
    "} // Ending a code block\n",
    "```\n",
    "\n",
    "The code for functions is also contained within a code block. In fact all the code that runs in a C++ program is launched from a single function called **main**. Here is the source code for a complete C++ program. \n",
    "\n",
    "```C++\n",
    "int main() {\n",
    "    // Code for the program goes within this code block\n",
    "    int a = 2;\n",
    "}\n",
    "```\n",
    "\n",
    "There can only be one **main** function in a program.\n",
    "\n",
    "## Basic data types\n",
    "\n",
    "There are only really two kinds of data types, integers and floats, with varying numbers of bits to represent them. Every other data type is a reinterpretation or compound mixture of these basic data types."
   ]
  },
  {
   "cell_type": "markdown",
   "id": "0ab20ad4-2706-4d93-8ffa-cae463a4c9cb",
   "metadata": {},
   "source": [
    "### Integers\n",
    "\n",
    "Integers represent whole numbers. There are two main types, signed and unsigned, with varying numbers of bits to represent them. For integers of length **N**, each bit is associated with a power of 2, and the value of the integer is the dot product between the vector of bits (1's and 0's) and a vector of decreasing powers of 2 ranging from $2^{N-1}$ to $2^{0}$ . With signed integers the most common representation is **two's complement**. This is where the first (most significant or highest value) element in the vector of two's is negative.  \n",
    "\n",
    "<figure style=\"margin-left:auto; margin-right:auto; width:60%;\">\n",
    "    <img style=\"vertical-align:middle\" src=\"images/integers.svg\">\n",
    "    <figcaption style= \"text-align:lower; margin:1em; float:bottom; vertical-align:bottom;\">Signed and unsigned integers with N=8 bits.</figcaption>\n",
    "</figure>\n",
    "\n",
    "Using the formulae for values we can derive the largest and smallest values for the integer types."
   ]
  },
  {
   "cell_type": "markdown",
   "id": "ea046fdc-79fe-4d82-82cc-e5b6fcd65bfb",
   "metadata": {},
   "source": [
    "| | signed | unsigned | \n",
    "| :- | :- | :- |\n",
    "| **smallest value** | $$-2^{N-1}$$ | $$0$$ | \n",
    "| **largest value** | $$2^{N-2}-1$$ | $$2^{N-1}$$ | \n"
   ]
  },
  {
   "cell_type": "markdown",
   "id": "6c52ee44-2c10-479d-8582-1af772dbf264",
   "metadata": {},
   "source": [
    "There are a number of data types in C that represent integers with varying numbers of bits. Not every integer type means the same number of bits on every platform.\n",
    "\n",
    "| Nominal number of bits (N) | name of signed form | name of unsigned form | \n",
    "| :- | :- | :- |\n",
    "|8|char|unsigned char| \n",
    "|16|short|unsigned short|\n",
    "|32|int|unsigned int|\n",
    "|32-64|NA|size_t|\n",
    "|64|long|unsigned long|\n",
    "\n",
    "The C statement to create integers is, for example:\n",
    "\n",
    "```C++\n",
    "// Creating integers\n",
    "int a=10;\n",
    "unsigned int b=10;\n",
    "```\n",
    "\n",
    "The character type (char) is just an 8-Bit integer whose value is associated with a lookup table of ASCII characters. We create a character in C using the following form.\n",
    "\n",
    "```C++\n",
    "// Create a character\n",
    "char c = 'a';\n",
    "```"
   ]
  },
  {
   "cell_type": "markdown",
   "id": "2a304841-5fbb-4ea5-bd43-48f127df8669",
   "metadata": {},
   "source": [
    "### IEEE754 Floating point numbers\n",
    "\n",
    "The IEEE754 standard for floating point numbers was established in 1985 and is the standard used in many applications, including OpenCL implementations. The bits are laid out in three sections: a Sign bit, an Exponent, and a Mantissa. The Sign bit occupies one bit, the Exponent has **NBE** bits and the Mantissa has **NBM** bits. The total number of bits for a floating point number is then NBE+NBM+1. The Exponent **E** is just an unsigned integer created by a dot product of the Exponent bits with a vector of decreasing positive powers of 2 ranging from $2^{\\mathrm{NBE}-1}$ to $2^0$. The Mantissa is constructed the same way, but the value is $2^{0}==1$ plus the dot product of the Mantissa bits with a vector of decreasing powers of 2 ranging from $2^{-1}$ to $2^{-\\mathrm{NBM}}$. All three components combine together to form the value, as shown below."
   ]
  },
  {
   "cell_type": "markdown",
   "id": "cf33eb67-16f0-450c-9d60-500d09fca390",
   "metadata": {},
   "source": [
    "<figure style=\"margin-left:auto; margin-right:auto; width:100%;\">\n",
    "    <img style=\"vertical-align:middle\" src=\"images/floating_point.svg\">\n",
    "    <figcaption style= \"text-align:lower; margin:1em; float:bottom; vertical-align:bottom;\">Floating point representations with differing numbers of bits.</figcaption>\n",
    "</figure>"
   ]
  },
  {
   "cell_type": "markdown",
   "id": "918572b4-f2ef-47fe-9a4a-fead2ad90912",
   "metadata": {},
   "source": [
    "The standard reserves special meaning (such as $\\pm \\infty$, NaN, or subnormal), for when the bits in the Exponent are either all zeros 0 or all 1. Therefore the smallest value is $E=1$ and the largest is $E=(2^{\\mathrm{NBE}}-1)-1$. Within these limits we see that a floating point number can describe everything within the following range of numbers:\n",
    "\n",
    "| | | \n",
    "| :- | :- |\n",
    "| **smallest value** | $$ 2^{1-\\mathrm{Bias}}$$ \n",
    "| **largest value** | $$ \\left (2-2^{\\mathrm{-NBM}} \\right) 2^{\\mathrm{Bias}}$$ "
   ]
  },
  {
   "cell_type": "markdown",
   "id": "1707906f-b101-42d3-8f17-6fd2bf432609",
   "metadata": {},
   "source": [
    "The **frexp** function in Python and C returns the values $x=0.5 \\times (-1)^{S} \\times \\left ( 1.0 + \\sum^{\\mathrm{NBM}-1}_{i=0} B_i 2^{i-\\mathrm{NBM}} \\right )$ and $y=E-\\mathrm{Bias}+1.$ to make $$\\mathrm{Value} = x \\times 2^{y}$$"
   ]
  },
  {
   "cell_type": "code",
   "execution_count": 30,
   "id": "d0830002-a9e3-4bc0-8e6c-64e9a9dcf1d6",
   "metadata": {},
   "outputs": [
    {
     "name": "stdout",
     "output_type": "stream",
     "text": [
      "0.5 1\n"
     ]
    }
   ],
   "source": [
    "import math\n",
    "(x,y) = math.frexp(1.0)\n",
    "print(x,y)"
   ]
  },
  {
   "cell_type": "markdown",
   "id": "54f95b09-b130-458e-9787-96255ca400b4",
   "metadata": {},
   "source": [
    "For any given floating point number $f$ within the limits, the next represented floating point number is exactly at a spacing of $\\Delta f=2^{(E-\\mathrm{Bias}-\\mathrm{NBM})}=2^{(y-1-\\mathrm{NBM})}$. A twofold change in spacing occurs at every power of two.\n",
    "\n",
    "#### Example\n",
    "\n",
    "For 32-bit floating point numbers the number of bits in the Exponent is $\\mathrm{NBE}=8$ and the number of bits in the Mantissa is $\\mathrm{NBM=23}$, therefore $\\mathrm{Bias}=127$. The smallest (normal) floating point representation is $2^{1-\\mathrm{Bias}}=1.1754944\\times 10^{-38}$ and the largest (normal) floating point representation is $3.4028235\\times10^{38}$. For values around $f=1.0$, where $E-\\mathrm{Bias}=0$ the spacing to the next floating point representation is $\\Delta f=2^{-23} \\approx 1.1920929 \\times 10^{-7}$.\n",
    "\n",
    "### Floating point numbers in C\n",
    "\n",
    "The C floating point data types for varying numbers of bits are as follows:\n",
    "\n",
    "| Nominal number of bits (NBM+NBE+1) | name |  \n",
    "| :- | :- | \n",
    "|16|half||\n",
    "|32|float| \n",
    "|64|double|\n",
    "|64-128| long double|\n",
    "\n",
    "Declaring a floating point number in C may be done as follows:\n",
    "\n",
    "```C++\n",
    "\n",
    "// half precision (16-bit), only on some platforms\n",
    "half a=2.0;\n",
    "\n",
    "// single precision (32-bit)\n",
    "float b=2.0;\n",
    "\n",
    "// double precision (64-bit)\n",
    "double c=2.0;\n",
    "\n",
    "// quadruple precision (64-bit)\n",
    "long double d=2.0;\n",
    "\n",
    "```\n"
   ]
  },
  {
   "cell_type": "markdown",
   "id": "d351130e-94bd-44db-8a95-4e72c7c3c6b1",
   "metadata": {
    "tags": []
   },
   "source": [
    "### Pointers and the stack\n",
    "\n",
    "Thus far we have been initialising integers and floats as statements in a program. These values require memory somewhere in which to store the bits. When the program is executed, the operating system allocates memory for the values in a pre-prepared and reserved area of memory for the program called the **stack**. In C/C++ one can get the starting address (as an integer) of the allocated memory, and this address is called a **pointer**.\n",
    "\n",
    "Pointers can store the address of any memory allocation. The pointer type determines how the memory will be accessed, i.e as a float, as an integer etc. We create a pointer to a particular data type by declaring a variable as usual and putting a **\\*** in front of the variable name to indicate that it is a pointer to a variable of that type.\n",
    "\n",
    "```C++\n",
    "int *p;  // Create a pointer to an integer called p\n",
    "int a=2; // Create an integer and give it a value of 2\n",
    "```\n",
    "\n",
    "The address operator **&** gets the address of allocated memory, which can be assigned to the pointer.\n",
    "\n",
    "```C++\n",
    "p = &a;  // Get the address of the integer and assign it to p\n",
    "```\n",
    "\n",
    "Finally, the de-referencing operator **\\*** can access the value pointed to by a pointer.\n",
    "\n",
    "```C++\n",
    "int y = *p; // Access the value pointed to by p and assign to y\n",
    "```\n",
    "\n",
    "There is a danger here, if **p** was not assigned to an address and we try to de-reference it, then the result will lead to a memory error and a potential crash of the program. There is a pointer type **void\\*** that can point to any memory allocation.\n",
    "\n",
    "```C++\n",
    "void *p = &a;\n",
    "```"
   ]
  },
  {
   "cell_type": "markdown",
   "id": "46777a24-3322-4213-bb83-afde5cbe6f07",
   "metadata": {},
   "source": [
    "### Functions\n",
    "\n",
    "A function is some code that does a task and can be called any number of times. Functions take zero or more arguments or variables as input and return zero or one output. Here are some example functions:\n",
    "\n",
    "```C++\n",
    "void simple() { // Takes no arguments and returns no values, we use void as the return type\n",
    "    int a=2;\n",
    "}\n",
    "\n",
    "int get_int() { // Takes zero arguments and returns an integer, notice we have to declare the return type\n",
    "    return 0; // The return is necessary\n",
    "}\n",
    "```\n",
    "\n",
    "We call these functions from the program as follows;\n",
    "\n",
    "```C++\n",
    "// Call a function that doesn't return anything\n",
    "simple();\n",
    "\n",
    "// Call a function that returns an integer\n",
    "int y = get_int();\n",
    "```"
   ]
  },
  {
   "cell_type": "markdown",
   "id": "a519be70-1a5f-4038-b9e0-a7402fe40b1a",
   "metadata": {},
   "source": [
    "The limitation on one return value isn't so bad because we can pass pointers into the function and use the dereferencing operator to set values. Notice that we have to set the data types on the inputs and outputs.\n",
    "\n",
    "```C++\n",
    "float more_complex(float *p, float a) { // Takes two arguments, a pointer and a float\n",
    "    *p = a; // dereference p and set the contents to a\n",
    "    return *p + 1;\n",
    "}\n",
    "```"
   ]
  },
  {
   "cell_type": "markdown",
   "id": "6a405081-e5b3-414c-9d1a-12f3c08ed33b",
   "metadata": {},
   "source": [
    "Such a function would be used as follows:\n",
    "\n",
    "```C++\n",
    "float a = 1.0;\n",
    "float b = 2.0;\n",
    "\n",
    "// We send the address of b and the value of a to the function.\n",
    "// The function will then fill b with a copy of the contents of a and return a+1\n",
    "float c = more_complex(&b, a);\n",
    "```"
   ]
  },
  {
   "cell_type": "markdown",
   "id": "2a83542d-f194-4195-965b-59549fea4ef2",
   "metadata": {},
   "source": [
    "### Printing values\n",
    "\n",
    "The function [**printf**](https://www.cplusplus.com/reference/cstdio/printf) offers a way to print variables to the command line. You need to include **<cstdio>** in the header of the program, like this:\n",
    "    \n",
    "```C++\n",
    "#include <cstdio>\n",
    "```\n",
    "\n",
    "The function is to be used like follows:\n",
    "\n",
    "```C++\n",
    "char a='s';\n",
    "float x = 5.0;\n",
    "float y = 6.0;\n",
    "printf(\"%c\", a); // Print a to the screen with its memory interpreted as an integer\n",
    "printf(\"%f %f\\n\", x, y); // Print x and y to the screen with its memory interpreted as floats\n",
    "printf(\"%i %i\\n\", y, x); // Print y and x to the screen with their memory interpreted as integers \n",
    "```\n",
    "\n",
    "The first argument is the format string and it can be followed by any number of arguments. Notice the newline character **'\\n'** in the format string to make a new line at the end of the printing. The percent characters **\\%** are placeholders for variables in the arguments and describe how the arguments should be displayed.\n",
    "    \n",
    "In C++ there is also the **cout** functionality to send output to the standard output stream.\n",
    "    \n",
    "```C++\n",
    "// Print x and y, a space, and a new line\n",
    "std::cout << x << \" \" < y << std::endl;\n",
    "```"
   ]
  },
  {
   "cell_type": "markdown",
   "id": "7b02f9ac-f34c-4fab-a343-f76c5a19f81b",
   "metadata": {},
   "source": [
    "### Arrays and memory allocations\n",
    "\n",
    "Sometimes we want to allocate memory for more than one element. If we know the size of the array beforehand and it is small (i.e. less than the stack size limit for programs in the OS) then we can allocate an array on the stack as follows:\n",
    "\n",
    "```C++\n",
    "int a[10]; // Creates an array of 10 elements\n",
    "```\n",
    "\n",
    "When we do this the variable **a** is actually a pointer that points to the first address of a memory allocation of 10 integers. We can use the indexing operator **[]** with the pointer to get at first and subsequent elements of the allocation. "
   ]
  },
  {
   "cell_type": "markdown",
   "id": "e0f3b1fd-0b9b-44f6-8523-dc3be63cc441",
   "metadata": {},
   "source": [
    "```C++\n",
    "// Print the first element\n",
    "printf(\"%f\", a[0]); \n",
    "```"
   ]
  },
  {
   "cell_type": "markdown",
   "id": "7d3a4feb-195c-4939-ba7c-20785a2509bf",
   "metadata": {},
   "source": [
    "Indicies in C/C++ start at 0. Memory accesses in C/C++ are unprotected, so if we go beyond the 10th element and try to access memory that is not allocated for the array, then the OS might detect the access violation and crash the program.\n",
    "\n",
    "### Dynamic memory allocation with **calloc** and **free**, **new** and **delete**\n",
    "\n",
    "Sometimes we don't know how big an array is until runtime, or we know that the array is too big to fit into the stack. In such cases we can allocate memory at runtime from a large pool of memory called the **heap**. Two functions to reserve memory are **[calloc](https://www.cplusplus.com/reference/cstdlib/calloc/)** and **[malloc](https://www.cplusplus.com/reference/cstdlib/malloc/)**. I prefer calloc because unlike malloc it always initialises the memory contents with zeros. Memory allocation with calloc looks like the following:\n",
    "\n",
    "```C++\n",
    "size_t N = 1024;\n",
    "void *p = calloc(N, sizeof(float)); // Allocates memory for 1024 floats\n",
    "```\n",
    "\n",
    "This allocates memory for 1024 floats. The sizeof function determines the size of argument in Bytes. The pointer returned by calloc is a void pointer, but we can use the casting operator **()** to convert the void pointer to a pointer that we need. In this case it is **float\\***\n",
    "\n",
    "```C++\n",
    "size_t N = 1024;\n",
    "float *p = (float*)calloc(N, sizeof(float)); // Allocate memory and cast to float* in one step.\n",
    "```\n"
   ]
  },
  {
   "cell_type": "markdown",
   "id": "df55b0a6-eca9-4459-87cf-b70ef41d3e39",
   "metadata": {},
   "source": [
    "Memory that is allocated like this must be manually deallocated. The **free** function takes a pointer to allocated memory and frees it for use again. Failure to free allocated memory when we don't need it anymore results in what is known as a memory leak.\n",
    "\n",
    "```C++\n",
    "free(p);\n",
    "```\n",
    "\n",
    "In C++ there is also the pair **new** and **delete**. These operate in much the same way.\n",
    "\n",
    "```C++\n",
    "float* p = new float[N];\n",
    "delete[] p;\n",
    "```\n",
    "\n",
    "For all the examples above we could have used any other data type such as **double** or **int** instead of **float**."
   ]
  },
  {
   "cell_type": "markdown",
   "id": "556a2587-f624-4698-b6d8-7e0e78dcae62",
   "metadata": {},
   "source": [
    "* OpenCL Data types\n",
    "* Reading and writing to and from a file\n",
    "* Multi-dimensional array access\n",
    "* math functions in C\n",
    "* for loops\n",
    "* Debugging with GDB\n",
    "* Exercise: debugging with GDB"
   ]
  },
  {
   "cell_type": "code",
   "execution_count": null,
   "id": "8ced2173-e221-4a34-96fc-73f603614110",
   "metadata": {
    "tags": []
   },
   "outputs": [],
   "source": []
  }
 ],
 "metadata": {
  "kernelspec": {
   "display_name": "Python 3 (ipykernel)",
   "language": "python",
   "name": "python3"
  },
  "language_info": {
   "codemirror_mode": {
    "name": "ipython",
    "version": 3
   },
   "file_extension": ".py",
   "mimetype": "text/x-python",
   "name": "python",
   "nbconvert_exporter": "python",
   "pygments_lexer": "ipython3",
   "version": "3.8.5"
  }
 },
 "nbformat": 4,
 "nbformat_minor": 5
}
