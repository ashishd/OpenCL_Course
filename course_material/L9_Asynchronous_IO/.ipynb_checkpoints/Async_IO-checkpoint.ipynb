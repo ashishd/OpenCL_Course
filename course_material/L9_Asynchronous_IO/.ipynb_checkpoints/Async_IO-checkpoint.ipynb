{
 "cells": [
  {
   "cell_type": "markdown",
   "id": "49390830-5c18-41f4-9f1d-18bddc857edd",
   "metadata": {},
   "source": [
    "# Optimising IO through asynchronous transfers\n",
    "\n"
   ]
  },
  {
   "cell_type": "code",
   "execution_count": null,
   "id": "b48a91c5-2a79-49b4-bc66-9aca1aee52d7",
   "metadata": {},
   "outputs": [],
   "source": []
  },
  {
   "cell_type": "code",
   "execution_count": 1,
   "id": "cce103a9-d35b-48b2-b7a8-7d0585a38306",
   "metadata": {},
   "outputs": [],
   "source": [
    "#!make"
   ]
  },
  {
   "cell_type": "markdown",
   "id": "01040902-83df-4355-bb79-0f7bee634db1",
   "metadata": {},
   "source": [
    "### Windows"
   ]
  },
  {
   "cell_type": "code",
   "execution_count": 2,
   "id": "6846e354-243b-457e-8c91-968285fa4c06",
   "metadata": {},
   "outputs": [],
   "source": [
    "#!nmake /f Makefile_win"
   ]
  },
  {
   "cell_type": "code",
   "execution_count": 18,
   "id": "dcced67c-c103-4ec3-b21e-e83a00f313de",
   "metadata": {},
   "outputs": [],
   "source": [
    "import os\n",
    "import sys\n",
    "import numpy as np\n",
    "import subprocess\n",
    "sys.path.insert(0, os.path.abspath(\"../include\"))\n",
    "\n",
    "import py_helper\n",
    "\n",
    "%matplotlib widget\n",
    "\n",
    "float_type = np.float32\n",
    "\n",
    "defines=py_helper.load_defines(\"mat_size.hpp\")\n",
    "\n",
    "# Velocity of the medium\n",
    "vel=333.0\n",
    "\n",
    "# Make up the velocity and first two timesteps\n",
    "V=np.ones((defines[\"N0\"], defines[\"N1\"]), dtype=float_type)*vel\n",
    "\n",
    "# Make up the first two timesteps of the solution\n",
    "U0=np.zeros((defines[\"N0\"], defines[\"N1\"]), dtype=float_type)\n",
    "U1=np.zeros((defines[\"N0\"], defines[\"N1\"]), dtype=float_type)\n",
    "\n",
    "# Inject a firework into U1\n",
    "U1[defines[\"N0\"]//2, defines[\"N1\"]//2]=100.0\n",
    "\n",
    "# write files to disk"
   ]
  },
  {
   "cell_type": "code",
   "execution_count": null,
   "id": "582cea5a-05db-4afe-92ce-075a18bb95c1",
   "metadata": {},
   "outputs": [],
   "source": []
  }
 ],
 "metadata": {
  "kernelspec": {
   "display_name": "Python 3 (ipykernel)",
   "language": "python",
   "name": "python3"
  },
  "language_info": {
   "codemirror_mode": {
    "name": "ipython",
    "version": 3
   },
   "file_extension": ".py",
   "mimetype": "text/x-python",
   "name": "python",
   "nbconvert_exporter": "python",
   "pygments_lexer": "ipython3",
   "version": "3.9.12"
  }
 },
 "nbformat": 4,
 "nbformat_minor": 5
}
