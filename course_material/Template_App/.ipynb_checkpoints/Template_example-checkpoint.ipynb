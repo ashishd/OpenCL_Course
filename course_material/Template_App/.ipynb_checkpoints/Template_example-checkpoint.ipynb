{
 "cells": [
  {
   "cell_type": "markdown",
   "id": "2e9fcee9-6cab-4b5a-b6a6-9cf05e379fc0",
   "metadata": {},
   "source": [
    "# Template example"
   ]
  },
  {
   "cell_type": "markdown",
   "id": "1e319bef-cc22-4bd4-a27d-f88ea8a263bd",
   "metadata": {},
   "source": [
    "The strategy we use here is to associate a kernel with every point (m,n) in Matrix C. The source code for the example is in [template.cpp](template.cpp) and the kernel is in [kernels.c](kernels.c). Click on the link and open up the file in a different window."
   ]
  },
  {
   "cell_type": "markdown",
   "id": "711df00c-444e-4d87-b347-85b0a9f18af7",
   "metadata": {},
   "source": [
    "## Running the example program\n",
    "\n",
    "We first run the application then understand how it works."
   ]
  },
  {
   "cell_type": "markdown",
   "id": "b13cc5e5-a763-4c6f-a005-d75411ca6e72",
   "metadata": {},
   "source": [
    "### Run the program"
   ]
  },
  {
   "cell_type": "code",
   "execution_count": 1,
   "id": "2e54a81e-9e19-423a-a933-7cbba9faa5d1",
   "metadata": {},
   "outputs": [
    {
     "name": "stdout",
     "output_type": "stream",
     "text": [
      "rm -r *.exe\n",
      "clang++ -framework OpenCL -std=c++11 -g -O2 -Xclang -fopenmp -I\"./\" -I../include -L\"./\" template.cpp\\\n",
      "\t\t-o template.exe \"\"\n",
      "\t               name: Intel(R) Core(TM) i7-4850HQ CPU @ 2.30GHz \n",
      "\t global memory size: 17179 MB\n",
      "\t    max buffer size: 4294 MB\n",
      "\t     max local size: (1024,1,1)\n",
      "Elapsed time is 0.427571seconds\n"
     ]
    }
   ],
   "source": [
    "!make clean; make; ./template.exe"
   ]
  },
  {
   "cell_type": "markdown",
   "id": "0a68cc47-5cb8-41bb-ae93-d007cacf5e88",
   "metadata": {},
   "source": [
    "### Read in the answer and verify results"
   ]
  },
  {
   "cell_type": "code",
   "execution_count": 8,
   "id": "3b46ae13-f8b4-4fdb-a0f0-15f8dec11071",
   "metadata": {},
   "outputs": [
    {
     "data": {
      "image/png": "[encoded data removed]",
      "text/plain": [
       "<Figure size 432x576 with 2 Axes>"
      ]
     },
     "metadata": {
      "needs_background": "light"
     },
     "output_type": "display_data"
    }
   ],
   "source": [
    "# Import axes machinery\n",
    "import numpy as np\n",
    "from matplotlib import pyplot as plt\n",
    "from mpl_toolkits.axes_grid1 import make_axes_locatable\n",
    "\n",
    "NROWS_C = 520\n",
    "NCOLS_C = 1032\n",
    "dtype = np.float32\n",
    "\n",
    "# Read in the output from OpenCL\n",
    "C_ocl = np.fromfile(\"array_C.dat\", dtype=dtype).reshape((NROWS_C, NCOLS_C))\n",
    "\n",
    "# Make plots\n",
    "fig, axes = plt.subplots(1, 1, figsize=(6,8), sharex=True, sharey=True)\n",
    "\n",
    "# Data to plot\n",
    "data = [C_ocl]\n",
    "\n",
    "# Labels to plot\n",
    "labels = [\"OpenCL\"]\n",
    "\n",
    "for n, value in enumerate(data):\n",
    "    # Plot the graph\n",
    "    ax = axes\n",
    "    im = ax.imshow(value)\n",
    "    divider = make_axes_locatable(ax)\n",
    "    cax = divider.append_axes(\"right\", size=\"5%\", pad=0.1)\n",
    "\n",
    "    # Set labels on things\n",
    "    ax.set_xlabel(\"Dimension 1 (columns)\")\n",
    "    ax.set_ylabel(\"Dimension 0 (rows)\")\n",
    "    ax.set_title(labels[n])\n",
    "\n",
    "    # Put a color bar on the plot\n",
    "    plt.colorbar(mappable=im, cax=cax)\n",
    "\n",
    "fig.tight_layout()\n",
    "plt.show()"
   ]
  },
  {
   "cell_type": "code",
   "execution_count": null,
   "id": "9f3f135d-cfb7-4a50-9694-55dee41a82a8",
   "metadata": {},
   "outputs": [],
   "source": []
  }
 ],
 "metadata": {
  "kernelspec": {
   "display_name": "Python 3 (ipykernel)",
   "language": "python",
   "name": "python3"
  },
  "language_info": {
   "codemirror_mode": {
    "name": "ipython",
    "version": 3
   },
   "file_extension": ".py",
   "mimetype": "text/x-python",
   "name": "python",
   "nbconvert_exporter": "python",
   "pygments_lexer": "ipython3",
   "version": "3.9.12"
  }
 },
 "nbformat": 4,
 "nbformat_minor": 5
}
