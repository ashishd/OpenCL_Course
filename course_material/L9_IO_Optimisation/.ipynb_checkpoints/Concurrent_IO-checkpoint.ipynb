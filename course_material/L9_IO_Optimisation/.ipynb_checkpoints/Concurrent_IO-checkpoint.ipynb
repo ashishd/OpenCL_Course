{
 "cells": [
  {
   "cell_type": "markdown",
   "id": "49390830-5c18-41f4-9f1d-18bddc857edd",
   "metadata": {},
   "source": [
    "# Optimising compute time with concurrent IO\n",
    "\n",
    "With many iterative processes there is a need to get information **off** the device at regular intervals. Up to this point we have been transferring data off the compute device **after** kernel execution. Furthermore, the routines to read information from device buffers have thus far been used in a blocking manner, that is the program pauses while the read occurs. \n",
    "\n",
    "Most compute devices have the ability to transfer data **while** kernels are being executed. This means IO transfers can take place during compute and may in some instances **take place entirely** during kernel execution. For the cost of additional programming complexity significant compute savings can be obtained, as the following diagram illustrates:\n",
    "\n",
    "<figure style=\"margin-bottom 3em; margin-top: 2em; margin-left:auto; margin-right:auto; width:100%\">\n",
    "    <img style=\"vertical-align:middle\" src=\"../images/optimising_io.svg\"> <figcaption style= \"text-align:lower; margin:1em; float:bottom; vertical-align:bottom;\">Figure: The difference between sequential and concurrent IO.</figcaption>\n",
    "</figure>\n",
    "\n",
    "The following tools can help enforce the required dependencies between items in a workflow.\n",
    "\n",
    "* Events\n",
    "* Multiple command queues\n",
    "* Asynchronous IO transfers\n"
   ]
  },
  {
   "cell_type": "code",
   "execution_count": 13,
   "id": "dcced67c-c103-4ec3-b21e-e83a00f313de",
   "metadata": {},
   "outputs": [],
   "source": [
    "%matplotlib widget\n",
    "\n",
    "import os\n",
    "import sys\n",
    "import numpy as np\n",
    "import subprocess\n",
    "from ipywidgets import widgets\n",
    "from matplotlib import pyplot as plt\n",
    "from matplotlib import animation, rc\n",
    "from IPython.display import HTML\n",
    "\n",
    "sys.path.insert(0, os.path.abspath(\"../include\"))\n",
    "\n",
    "import py_helper\n",
    "\n",
    "float_type = np.float32\n",
    "\n",
    "defines=py_helper.load_defines(\"mat_size.hpp\")\n",
    "\n",
    "# Velocity of the medium\n",
    "vel=333.0\n",
    "\n",
    "# Make up the velocity and first two timesteps\n",
    "V=np.ones((defines[\"N0\"], defines[\"N1\"]), dtype=float_type)*vel\n",
    "\n",
    "# write files to disk\n",
    "V.tofile(\"array_V.dat\")"
   ]
  },
  {
   "cell_type": "markdown",
   "id": "7f42d117-e9e0-4edf-a108-03e69c3658c8",
   "metadata": {},
   "source": [
    "## Run the wave application with synchronous IO"
   ]
  },
  {
   "cell_type": "code",
   "execution_count": 29,
   "id": "bac6b827-4ee7-4f24-9cbe-bc856bc18691",
   "metadata": {},
   "outputs": [
    {
     "name": "stdout",
     "output_type": "stream",
     "text": [
      "\t               name: gfx1035 \n",
      "\t global memory size: 536 MB\n",
      "\t    max buffer size: 456 MB\n",
      "\t     max local size: (1024,1024,1024)\n",
      "\t     max work-items: 256\n",
      "dt=0.001201, Vmax=333.000000\n",
      "dt=0.0012012, fm=33.3, Vmax=333, dt2=1.44288e-06\n",
      "The synchronous calculation took 40885 milliseconds.\n"
     ]
    },
    {
     "data": {
      "text/plain": [
       "CompletedProcess(args=['/home/toby/Pelagos/Projects/OpenCL_Course/course_material/L9_Asynchronous_IO/wave2d_sync.exe', '-gpu'], returncode=0)"
      ]
     },
     "execution_count": 29,
     "metadata": {},
     "output_type": "execute_result"
    }
   ],
   "source": [
    "# Run the application\n",
    "subprocess.run([os.path.join(os.getcwd(),\"wave2d_sync.exe\"), \"-gpu\"])"
   ]
  },
  {
   "cell_type": "markdown",
   "id": "d3c9d703-f3e4-4f1f-8434-3b24c32188ca",
   "metadata": {},
   "source": [
    "## Run the wave application with asynchronous IO"
   ]
  },
  {
   "cell_type": "code",
   "execution_count": 30,
   "id": "582cea5a-05db-4afe-92ce-075a18bb95c1",
   "metadata": {},
   "outputs": [
    {
     "name": "stdout",
     "output_type": "stream",
     "text": [
      "\t               name: gfx1035 \n",
      "\t global memory size: 536 MB\n",
      "\t    max buffer size: 456 MB\n",
      "\t     max local size: (1024,1024,1024)\n",
      "\t     max work-items: 256\n",
      "dt=0.001201, Vmax=333.000000\n",
      "dt=0.0012012, fm=33.3, Vmax=333, dt2=1.44288e-06\n",
      "The asynchronous calculation took 28424 milliseconds."
     ]
    },
    {
     "data": {
      "text/plain": [
       "CompletedProcess(args=['/home/toby/Pelagos/Projects/OpenCL_Course/course_material/L9_Asynchronous_IO/wave2d_async.exe', '-gpu'], returncode=0)"
      ]
     },
     "execution_count": 30,
     "metadata": {},
     "output_type": "execute_result"
    }
   ],
   "source": [
    "# Run the application\n",
    "subprocess.run([os.path.join(os.getcwd(),\"wave2d_async.exe\"), \"-gpu\"])"
   ]
  },
  {
   "cell_type": "code",
   "execution_count": 24,
   "id": "7fa4e87c-d787-47d0-b95d-1e5cb5c0c851",
   "metadata": {},
   "outputs": [],
   "source": [
    "# Read the outputfile back in for display\n",
    "output=np.fromfile(\"array_out.dat\", dtype=float_type)\n",
    "nslices=output.size//(defines[\"N0\"]*defines[\"N1\"])\n",
    "output=output.reshape(nslices, defines[\"N0\"], defines[\"N1\"])"
   ]
  },
  {
   "cell_type": "code",
   "execution_count": 25,
   "id": "459cbfd2-0fdc-4492-9805-f76db5e9a6c0",
   "metadata": {},
   "outputs": [
    {
     "data": {
      "application/vnd.jupyter.widget-view+json": {
       "model_id": "a4b68b376be04d0f8726a22ef33f9746",
       "version_major": 2,
       "version_minor": 0
      },
      "text/plain": [
       "interactive(children=(IntSlider(value=0, description='n', max=639), Output()), _dom_classes=('widget-interact'…"
      ]
     },
     "metadata": {},
     "output_type": "display_data"
    }
   ],
   "source": [
    "# Animate the result\n",
    "fig, ax = plt.subplots(1,1, figsize=(8,6))\n",
    "extent=[ -0.5*defines[\"D1\"], (defines[\"N1\"]-0.5)*defines[\"D1\"],\n",
    "    -0.5*defines[\"D0\"], (defines[\"N0\"]-0.5)*defines[\"D0\"]]\n",
    "img = ax.imshow(\n",
    "    output[0,...], \n",
    "    extent=extent, \n",
    "    vmin=np.min(output), \n",
    "    vmax=np.max(output),\n",
    "    origin=\"lower\"\n",
    ")\n",
    "\n",
    "ax.set_xlabel(\"Dimension 1\")\n",
    "ax.set_ylabel(\"Dimension 0\")\n",
    "ax.set_title(\"Wavefield\")\n",
    "\n",
    "def update(n=0):\n",
    "    img.set_data(output[n,...])\n",
    "    plt.show()\n",
    "    #return (img,)\n",
    "\n",
    "# Run the interaction\n",
    "result = widgets.interact(\n",
    "    update,\n",
    "    n=(0, output.shape[0]-1, 1)\n",
    ")"
   ]
  },
  {
   "cell_type": "code",
   "execution_count": null,
   "id": "76ee79e1-9a1e-431b-a2ba-81e0fe740d6a",
   "metadata": {},
   "outputs": [],
   "source": []
  }
 ],
 "metadata": {
  "kernelspec": {
   "display_name": "Python 3 (ipykernel)",
   "language": "python",
   "name": "python3"
  },
  "language_info": {
   "codemirror_mode": {
    "name": "ipython",
    "version": 3
   },
   "file_extension": ".py",
   "mimetype": "text/x-python",
   "name": "python",
   "nbconvert_exporter": "python",
   "pygments_lexer": "ipython3",
   "version": "3.9.12"
  }
 },
 "nbformat": 4,
 "nbformat_minor": 5
}
