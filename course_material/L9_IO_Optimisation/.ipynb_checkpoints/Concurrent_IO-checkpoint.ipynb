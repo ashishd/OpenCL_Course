{
 "cells": [
  {
   "cell_type": "markdown",
   "id": "49390830-5c18-41f4-9f1d-18bddc857edd",
   "metadata": {},
   "source": [
    "# Optimising compute with concurrent IO in OpenCL\n",
    "\n",
    "With many iterative processes there is a need to get information **off** the device at regular intervals. Up to this point we have been transferring data off the compute device **after** kernel execution. Also, the routines to read information from device buffers have thus far been used in a blocking manner, that is the program pauses while the read occurs. Most compute devices have the ability to transfer data **while** kernels are being executed. This means IO transfers can take place during compute and may in some instances **take place entirely** during kernel execution. For the cost of additional programming complexity, significant compute savings can be obtained, as the following diagram illustrates:\n",
    "\n",
    "<figure style=\"margin-bottom 3em; margin-top: 2em; margin-left:auto; margin-right:auto; width:100%\">\n",
    "    <img style=\"vertical-align:middle\" src=\"../images/optimising_io.svg\"> <figcaption style= \"text-align:lower; margin:1em; float:bottom; vertical-align:bottom;\">Figure: The difference between sequential and concurrent IO.</figcaption>\n",
    "</figure>\n",
    "\n",
    "## Concurrent IO is enabled with multiple command queues\n",
    "\n",
    "The **key to leveraging concurrent IO** is to have one command queue for the kernels and one or more command queues for moving data. Then IO operations can take place largely independently of the compute operations. OpenCL Events and the clFinish command can help establish dependencies between command queues. Non-blocking IO calls may also help with concurrency."
   ]
  },
  {
   "cell_type": "markdown",
   "id": "ec04ce78-df29-42dd-a38a-822a23407cae",
   "metadata": {},
   "source": [
    "## Example with the 2D wave equation\n",
    "\n",
    "The [scalar wave equation](https://en.wikipedia.org/wiki/Wave_equation) adequately describes a number of different wave phenomena. If **U** is a 2D grid storing the amplitude of the wave at every location (the wavefield), **V** is a 2D grid storing velocity, and **t** is time, then 2D waves propagate according to the formula,\n",
    "\n",
    "$$\\frac{\\partial^2 \\textbf{U}}{{\\partial t}^2}=\\textbf{V}^2 \\left (\\frac{\\partial^2 \\textbf{U}}{{\\partial x_{0}}^2}+\\frac{\\partial^2 \\textbf{U}}{{\\partial x_{1}}^2} \\right)+f(t)$$\n",
    "\n",
    "where $x_0$ and $x_1$ are spatial directions and $f(t)$ is a forcing term. If $\\Delta t$ is the time step a second-order finite-difference approximation to the time derivative is given in terms of the amplitude at timesteps $\\textbf{U}_{0}, \\textbf{U}_{1}$ and $\\textbf{U}_{2}.$ \n",
    "\n",
    "$$\\frac{\\partial^2 \\textbf{U}}{{\\partial t}^2} \\approx \\frac{1}{\\Delta t^2} \\left ( \\textbf{U}_{0} -2 \\textbf{U}_{1}+\\textbf{U}_{2} \\right ) $$"
   ]
  },
  {
   "cell_type": "markdown",
   "id": "78810535-577b-4789-a36c-d5a43d759bd7",
   "metadata": {},
   "source": [
    "Replace $\\frac{\\partial^2 \\textbf{U}}{{\\partial t}^2}$ with $\\frac{1}{\\Delta t^2} \\left( \\textbf{U}_{0} -2 \\textbf{U}_{1}+\\textbf{U}_{2} \\right )$ and solve for $\\textbf{U}_{2}$.\n",
    "\n",
    "$$\\textbf{U}_{2} \\approx 2 \\textbf{U}_{1} - \\textbf{U}_{0} + \\Delta t^2\\textbf{V}^2 \\left (\\frac{\\partial^2 \\textbf{U}_{1}}{{\\partial x_{0}}^2}+\\frac{\\partial^2 \\textbf{U}_{1}}{{\\partial x_{1}}^2} \\right)+f_{1}$$\n",
    "\n",
    "This is an iterative formula to generate the amplitude at the next timestep $\\textbf{U}_2$ if we know the present ampltiude $\\textbf{U}_{1}$ and past amplitude $\\textbf{U}_{0}.$ We also use finite difference approximations for the spatial derivatives, and express the spatial derivatives as a matrix multiplied by $\\textbf{U}_{1}$, but this complexity is unnecessary to show here. All we need to know is that the next timestep is a function ${\\textbf{F}}$ of the present and past timesteps, the velocity, and the forcing term.\n",
    "\n",
    "$$\\textbf{U}_{2}=\\textbf{F}(\\textbf{U}_0, \\textbf{U}_1, \\textbf{V}, f_{1})$$\n",
    "\n",
    "> In geophysics we usually use a [Ricker Wavelet](https://wiki.seg.org/wiki/Dictionary:Ricker_wavelet) for the forcing term $f$, and usually inject that wavelet into one cell within the grid as time progresses."
   ]
  },
  {
   "cell_type": "markdown",
   "id": "19d9870e-642e-4357-a49a-bf220fd42d7c",
   "metadata": {},
   "source": [
    "### Kernel implementation\n",
    "\n",
    "In [kernels.c](kernels.c) is a kernel called **wave2d_4o** that implements the function **F**. OpenCL buffers store $\\textbf{U}_{0}, \\textbf{U}_{1}, \\textbf{U}_{2}$, and $\\textbf{V}$ on the compute device.\n",
    "\n",
    "```C++\n",
    "// Kernel to solve the wave equation with fourth-order accuracy in space\n",
    "__kernel void wave2d_4o (\n",
    "        __global float* U0,\n",
    "        __global float* U1,\n",
    "        __global float* U2,\n",
    "        __global float* V,\n",
    "        unsigned int N0,\n",
    "        unsigned int N1,\n",
    "        float dt2,\n",
    "        float inv_dx02,\n",
    "        float inv_dx12,\n",
    "        // Position, frequency, and time for the\n",
    "        // wavelet injection\n",
    "        unsigned int P0,\n",
    "        unsigned int P1,\n",
    "        float pi2fm2t2) {    \n",
    "\n",
    "    // U2, U1, U0, V is of size (N0, N1)\n",
    "    size_t i0=get_global_id(1); // Slowest dimension\n",
    "    size_t i1=get_global_id(0); // Fastest dimension\n",
    "    \n",
    "    // Required padding and coefficients for spatial finite difference\n",
    "    const int pad_l=2, pad_r=2, ncoeffs=5;\n",
    "    float coeffs[ncoeffs] = {-0.083333336f, 1.3333334f, -2.5f, 1.3333334f, -0.083333336f};\n",
    "    \n",
    "    // Limit i0 and i1 to the region of U2 within the padding\n",
    "    i0=min(i0, (size_t)(N0-1-pad_r));\n",
    "    i1=min(i1, (size_t)(N1-1-pad_r));\n",
    "    i0=max((size_t)pad_l, i0);\n",
    "    i1=max((size_t)pad_l, i1);\n",
    "    \n",
    "    // Position within the grid as a 1D offset\n",
    "    long offset=i0*N1+i1;\n",
    "    \n",
    "    // Temporary storage\n",
    "    float temp0=0.0f, temp1=0.0f;\n",
    "    float tempV=V[offset];\n",
    "    \n",
    "    // Calculate the Laplacian\n",
    "    #pragma unroll\n",
    "    for (long n=0; n<ncoeffs; n++) {\n",
    "        // Stride in dim0 is N1        \n",
    "        temp0+=coeffs[n]*U1[offset+(n*(long)N1)-(pad_l*(long)N1)];\n",
    "        // Stride in dim1 is 1\n",
    "        temp1+=coeffs[n]*U1[offset+n-pad_l];\n",
    "    }\n",
    "    \n",
    "    // Calculate the wavefield U2 at the next timestep\n",
    "    U2[offset]=(2.0f*U1[offset])-U0[offset]+((dt2*tempV*tempV)*(temp0*inv_dx02+temp1*inv_dx12));\n",
    "    \n",
    "    // Inject the forcing term at coordinates (P0, P1)\n",
    "    if ((i0==P0) && (i1==P1)) {\n",
    "        U2[offset]+=(1.0f-2.0f*pi2fm2t2)*exp(-pi2fm2t2);\n",
    "    }\n",
    "    \n",
    "}\n",
    "```"
   ]
  },
  {
   "cell_type": "markdown",
   "id": "7084fdf8-eaf0-44c5-9cc2-76b052e80c2b",
   "metadata": {},
   "source": [
    "### Problem setup\n",
    "\n",
    "For this problem we create the 2D grid as a square box of size $(N0,N1)=(256,256)$. The velocity is uniform at 343m/s. This is approximately the speed of sound in air. Then we use a Ricker wavelet as a forcing term to 'let off a firework' in the middle of the box and run a number of timesteps to see how a sound wave propagates in the box. \n",
    "\n",
    "<figure style=\"margin-bottom 3em; margin-top: 2em; margin-left:auto; margin-right:auto; width:100%\">\n",
    "    <img style=\"vertical-align:middle\" src=\"../images/wave2d_problem.svg\"> <figcaption style= \"text-align:lower; margin:1em; float:bottom; vertical-align:bottom;\">Figure: Problem setup for the 2D wave equation.</figcaption>\n",
    "</figure>\n",
    "\n",
    "\n",
    "At each timestep the kernel **wave2d_4o** is used to update the solution to the next timestep. Old wavefields that are no longer needed are recycled for efficiency.\n",
    "\n",
    "The code below just writes the velocity array to disk, ready to be read in by the wave codes below."
   ]
  },
  {
   "cell_type": "code",
   "execution_count": 37,
   "id": "dcced67c-c103-4ec3-b21e-e83a00f313de",
   "metadata": {},
   "outputs": [],
   "source": [
    "%matplotlib widget\n",
    "\n",
    "import os\n",
    "import sys\n",
    "import numpy as np\n",
    "import subprocess\n",
    "from ipywidgets import widgets\n",
    "from matplotlib import pyplot as plt\n",
    "from matplotlib import animation, rc\n",
    "from IPython.display import HTML\n",
    "\n",
    "sys.path.insert(0, os.path.abspath(\"../include\"))\n",
    "\n",
    "import py_helper\n",
    "\n",
    "float_type = np.float32\n",
    "\n",
    "defines=py_helper.load_defines(\"mat_size.hpp\")\n",
    "\n",
    "# Velocity of the medium\n",
    "vel=343.0\n",
    "\n",
    "# Make up the velocity and first two timesteps\n",
    "V=np.ones((defines[\"N0\"], defines[\"N1\"]), dtype=float_type)*vel\n",
    "\n",
    "# write files to disk\n",
    "V.tofile(\"array_V.dat\")"
   ]
  },
  {
   "cell_type": "markdown",
   "id": "bb1637b9-c045-4b17-8492-a8a7c1f2f606",
   "metadata": {},
   "source": [
    "### Sequential IO solution\n",
    "\n",
    "In [wave2d_sync.cpp](wave2d_sync.cpp) we use an array of three OpenCL buffers to represent the wavefield at timesteps (0,1,2). A single command queue is used for both kernel execution and IO."
   ]
  },
  {
   "cell_type": "markdown",
   "id": "7f42d117-e9e0-4edf-a108-03e69c3658c8",
   "metadata": {},
   "source": [
    "## Run the wave application with synchronous IO"
   ]
  },
  {
   "cell_type": "code",
   "execution_count": 39,
   "id": "bac6b827-4ee7-4f24-9cbe-bc856bc18691",
   "metadata": {},
   "outputs": [
    {
     "name": "stdout",
     "output_type": "stream",
     "text": [
      "\t               name: gfx1035 \n",
      "\t global memory size: 536 MB\n",
      "\t    max buffer size: 456 MB\n",
      "\t     max local size: (1024,1024,1024)\n",
      "\t     max work-items: 256\n",
      "dt=0.001166, Vmax=343.000000\n",
      "dt=0.00116618, fm=34.3, Vmax=343, dt2=1.35998e-06\n",
      "The synchronous calculation took 43571 milliseconds.\n"
     ]
    },
    {
     "data": {
      "text/plain": [
       "CompletedProcess(args=['/home/toby/Pelagos/Projects/OpenCL_Course/course_material/L9_IO_Optimisation/wave2d_sync.exe', '-gpu'], returncode=0)"
      ]
     },
     "execution_count": 39,
     "metadata": {},
     "output_type": "execute_result"
    }
   ],
   "source": [
    "# Run the application\n",
    "subprocess.run([os.path.join(os.getcwd(),\"wave2d_sync.exe\"), \"-gpu\"])"
   ]
  },
  {
   "cell_type": "markdown",
   "id": "d3c9d703-f3e4-4f1f-8434-3b24c32188ca",
   "metadata": {},
   "source": [
    "## Run the wave application with concurrent IO"
   ]
  },
  {
   "cell_type": "code",
   "execution_count": 29,
   "id": "582cea5a-05db-4afe-92ce-075a18bb95c1",
   "metadata": {},
   "outputs": [
    {
     "name": "stdout",
     "output_type": "stream",
     "text": [
      "\t               name: gfx1035 \n",
      "\t global memory size: 536 MB\n",
      "\t    max buffer size: 456 MB\n",
      "\t     max local size: (1024,1024,1024)\n",
      "\t     max work-items: 256\n",
      "dt=0.001201, Vmax=333.000000\n",
      "dt=0.0012012, fm=33.3, Vmax=333, dt2=1.44288e-06\n",
      "The asynchronous calculation took 28995 milliseconds."
     ]
    },
    {
     "data": {
      "text/plain": [
       "CompletedProcess(args=['/home/toby/Pelagos/Projects/OpenCL_Course/course_material/L9_IO_Optimisation/wave2d_async.exe', '-gpu'], returncode=0)"
      ]
     },
     "execution_count": 29,
     "metadata": {},
     "output_type": "execute_result"
    }
   ],
   "source": [
    "# Run the application\n",
    "subprocess.run([os.path.join(os.getcwd(),\"wave2d_async.exe\"), \"-gpu\"])"
   ]
  },
  {
   "cell_type": "code",
   "execution_count": 15,
   "id": "7fa4e87c-d787-47d0-b95d-1e5cb5c0c851",
   "metadata": {},
   "outputs": [],
   "source": [
    "# Read the outputfile back in for display\n",
    "output=np.fromfile(\"array_out.dat\", dtype=float_type)\n",
    "nslices=output.size//(defines[\"N0\"]*defines[\"N1\"])\n",
    "output=output.reshape(nslices, defines[\"N0\"], defines[\"N1\"])"
   ]
  },
  {
   "cell_type": "code",
   "execution_count": 16,
   "id": "459cbfd2-0fdc-4492-9805-f76db5e9a6c0",
   "metadata": {},
   "outputs": [
    {
     "data": {
      "application/vnd.jupyter.widget-view+json": {
       "model_id": "ebd6e4e961a14dc287627092c33b409f",
       "version_major": 2,
       "version_minor": 0
      },
      "text/plain": [
       "interactive(children=(IntSlider(value=0, description='n', max=639), Output()), _dom_classes=('widget-interact'…"
      ]
     },
     "metadata": {},
     "output_type": "display_data"
    }
   ],
   "source": [
    "# Animate the result\n",
    "fig, ax = plt.subplots(1,1, figsize=(8,6))\n",
    "extent=[ -0.5*defines[\"D1\"], (defines[\"N1\"]-0.5)*defines[\"D1\"],\n",
    "    -0.5*defines[\"D0\"], (defines[\"N0\"]-0.5)*defines[\"D0\"]]\n",
    "img = ax.imshow(\n",
    "    output[0,...], \n",
    "    extent=extent, \n",
    "    vmin=np.min(output), \n",
    "    vmax=np.max(output),\n",
    "    origin=\"lower\"\n",
    ")\n",
    "\n",
    "ax.set_xlabel(\"Dimension 1\")\n",
    "ax.set_ylabel(\"Dimension 0\")\n",
    "ax.set_title(\"Wavefield\")\n",
    "\n",
    "def update(n=0):\n",
    "    img.set_data(output[n,...])\n",
    "    plt.show()\n",
    "    #return (img,)\n",
    "\n",
    "# Run the interaction\n",
    "result = widgets.interact(\n",
    "    update,\n",
    "    n=(0, output.shape[0]-1, 1)\n",
    ")"
   ]
  },
  {
   "cell_type": "code",
   "execution_count": null,
   "id": "76ee79e1-9a1e-431b-a2ba-81e0fe740d6a",
   "metadata": {},
   "outputs": [],
   "source": []
  }
 ],
 "metadata": {
  "kernelspec": {
   "display_name": "Python 3 (ipykernel)",
   "language": "python",
   "name": "python3"
  },
  "language_info": {
   "codemirror_mode": {
    "name": "ipython",
    "version": 3
   },
   "file_extension": ".py",
   "mimetype": "text/x-python",
   "name": "python",
   "nbconvert_exporter": "python",
   "pygments_lexer": "ipython3",
   "version": "3.9.12"
  }
 },
 "nbformat": 4,
 "nbformat_minor": 5
}
