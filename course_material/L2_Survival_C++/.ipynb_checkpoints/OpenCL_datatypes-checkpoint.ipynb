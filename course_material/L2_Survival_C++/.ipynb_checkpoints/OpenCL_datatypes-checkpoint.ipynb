{
 "cells": [
  {
   "cell_type": "markdown",
   "id": "07ae5e8c-c989-4d74-9e10-d30658ed4b78",
   "metadata": {},
   "source": [
    "# OpenCL data types\n",
    "\n",
    "We saw in the survival C++ notebook that some C datatypes are represented with a nominal number of bits depending on the platform and operating system in use. Within OpenCL kernels, a particular C datatype always uses the same number of bits, however in the main program that same C datatype might use a different number of bits. This is a problem for OpenCL applications, which promise a level of portability across implementations. In order to remedy this, the latest [OpenCL C specification](https://www.khronos.org/registry/OpenCL/specs/3.0-unified/pdf/OpenCL_C.pdf) has a number of standard data types for fixing the number of bits used, and maintaining consitency with the number of bits used in the kernel. As follows is a number of commonly used OpenCL data types and how many bits they use. It is **good practice** to use these data types wherever practical in OpenCL applications."
   ]
  },
  {
   "cell_type": "markdown",
   "id": "f74fadec-498d-4b1f-90fa-463090119eed",
   "metadata": {},
   "source": [
    "## Scalar types"
   ]
  },
  {
   "cell_type": "markdown",
   "id": "b2bdf6d3-903d-4387-9b14-75514da9a255",
   "metadata": {},
   "source": [
    "| kernel C type | OpenCL standard type | Description and bits used |  \n",
    "| :- | :- | :- |\n",
    "| bool | NA | undefined |\n",
    "| char | cl_char | 8 bits, signed two's complement integer  |\n",
    "| unsigned char, uchar | cl_uchar | 8 bits, unsigned integer |\n",
    "| short | cl_short | 16 bits, signed two's complement integer |\n",
    "| unsigned short, ushort | cl_ushort | 16 bits, unsigned integer |\n",
    "| int | cl_int | 32 bits, signed two's complement integer |\n",
    "| unsigned int, uint | cl_uint | 32 bits, unsigned integer |\n",
    "| long | cl_long | 64 bits, signed two's complement integer |\n",
    "| unsigned long, ulong | cl_ulong | 64 bits, unsigned integer |\n",
    "| half | cl_half | 16 bits, floating point number |\n",
    "| float | cl_float | 32 bits, floating point number |\n",
    "| size_t | NA | unknown bits, result of **sizeof** operator |\n",
    "| ptrdiff_t | NA | unknown bits, signed integer type from the subtraction of one pointer from another |\n",
    "| intptr_t | NA | unknown bits, pointer storage in a signed integer type |\n",
    "| uintptr_t | NA | unknown bits, pointer storage in an unsigned integer type |\n",
    "| void | void | unknown bits, incomplete type |"
   ]
  },
  {
   "cell_type": "markdown",
   "id": "fdaf74b0-5f3b-4369-93f9-0ea17fece4ea",
   "metadata": {},
   "source": [
    "## Vector types\n",
    "\n",
    "In addition to the standard types above, the OpenCL standard also defines a number of vector types with 2,3,4,8, and 16 elements. When used from a kernel,  these types can help unlock vector optimisations such as SIMD instructions on CPUs. While there is a corresponding OpenCL standard type for each kernel vector type, the vector types are of limited use outside a host program because in a host program there is limited machinery availble to interact with the elements of the vector."
   ]
  },
  {
   "cell_type": "code",
   "execution_count": null,
   "id": "60ba7795-dee2-400c-bda9-b0a0f84eec6b",
   "metadata": {},
   "outputs": [],
   "source": []
  }
 ],
 "metadata": {
  "kernelspec": {
   "display_name": "Python 3",
   "language": "python",
   "name": "python3"
  },
  "language_info": {
   "codemirror_mode": {
    "name": "ipython",
    "version": 3
   },
   "file_extension": ".py",
   "mimetype": "text/x-python",
   "name": "python",
   "nbconvert_exporter": "python",
   "pygments_lexer": "ipython3",
   "version": "3.8.8"
  }
 },
 "nbformat": 4,
 "nbformat_minor": 5
}
