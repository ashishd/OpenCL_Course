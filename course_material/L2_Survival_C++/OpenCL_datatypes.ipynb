{
 "cells": [
  {
   "cell_type": "markdown",
   "id": "07ae5e8c-c989-4d74-9e10-d30658ed4b78",
   "metadata": {},
   "source": [
    "# OpenCL data types\n",
    "\n",
    "We saw in the survival C++ notebook that some C datatypes are represented with a nominal number of bits depending on the platform and operating system in use. Within OpenCL kernels, a particular C datatype always uses the same number of bits, however in the main program that same C datatype might use a different number of bits. This is a problem for OpenCL applications, which promise a level of portability across implementations. In order to remedy this, the latest [OpenCL C specification](https://www.khronos.org/registry/OpenCL/specs/3.0-unified/pdf/OpenCL_C.pdf) has a number of standard data types for fixing the number of bits used, and maintaining consitency with the number of bits used for types in the kernel. As follows is a number of commonly used OpenCL data types and how many bits they use. It is **good practice** to use these data types wherever practical in OpenCL applications."
   ]
  },
  {
   "cell_type": "markdown",
   "id": "f74fadec-498d-4b1f-90fa-463090119eed",
   "metadata": {},
   "source": [
    "## Scalar types"
   ]
  },
  {
   "cell_type": "markdown",
   "id": "b2bdf6d3-903d-4387-9b14-75514da9a255",
   "metadata": {},
   "source": [
    "| kernel C type | OpenCL standard type | Description and bits used |  \n",
    "| :- | :- | :- |\n",
    "| bool | NA | undefined |\n",
    "| char | cl_char | 8 bits, signed two's complement integer  |\n",
    "| unsigned char, uchar | cl_uchar | 8 bits, unsigned integer |\n",
    "| short | cl_short | 16 bits, signed two's complement integer |\n",
    "| unsigned short, ushort | cl_ushort | 16 bits, unsigned integer |\n",
    "| int | cl_int | 32 bits, signed two's complement integer |\n",
    "| unsigned int, uint | cl_uint | 32 bits, unsigned integer |\n",
    "| long | cl_long | 64 bits, signed two's complement integer |\n",
    "| unsigned long, ulong | cl_ulong | 64 bits, unsigned integer |\n",
    "| half | cl_half | 16 bits, floating point number |\n",
    "| float | cl_float | 32 bits, floating point number |\n",
    "| double | cl_double | 64 bits, floating point number |\n",
    "| size_t | NA | unknown bits, result of **sizeof** operator |\n",
    "| ptrdiff_t | NA | unknown bits, signed integer type from the subtraction of one pointer from another |\n",
    "| intptr_t | NA | unknown bits, pointer storage in a signed integer type |\n",
    "| uintptr_t | NA | unknown bits, pointer storage in an unsigned integer type |\n",
    "| void | void | unknown bits, incomplete type |"
   ]
  },
  {
   "cell_type": "markdown",
   "id": "fdaf74b0-5f3b-4369-93f9-0ea17fece4ea",
   "metadata": {},
   "source": [
    "## Vector types\n",
    "\n",
    "In addition to the standard types above, the OpenCL standard also defines a number of vector types with **n** = 2,3,4,8, and 16 elements. Amazingly, CUDA currently has support for vectors of only up to 4 elements. Vector types are useful because can help unlock vector optimisations and better memory fetching patterns. "
   ]
  },
  {
   "cell_type": "markdown",
   "id": "edc907a3-dafd-4abe-8909-1aaa6825717e",
   "metadata": {},
   "source": [
    "| kernel C type | OpenCL standard type | Description and bits used |  \n",
    "| :- | :- | :- |\n",
    "| char**n** | cl_char**n** | **n** x 8 bits, signed two's complement integers  |\n",
    "| uchar**n** | cl_uchar**n** | **n** x 8 bits, unsigned integers |\n",
    "| short**n** | cl_short**n** | **n** x 16 bits, signed two's complement integers |\n",
    "| ushort**n** | cl_ushort**n** | **n** x 16 bits, unsigned integers |\n",
    "| int**n** | cl_int**n** | **n** x 32 bits, signed two's complement integers |\n",
    "| uint**n** | cl_uint**n** | **n** x 32 bits, unsigned integers |\n",
    "| long**n** | cl_long**n** | **n** x 64 bits, signed two's complement integers |\n",
    "| ulong**n** | cl_ulong**n** | **n** x 64 bits, unsigned integers |\n",
    "| float**n** | cl_float**n** | **n** x 32 bits, floating point numbers |\n",
    "| double**n** | cl_double**n** | **n** x 64 bits, floating point numbers |"
   ]
  },
  {
   "cell_type": "markdown",
   "id": "bd252b27-3d31-408c-80c4-497b506af420",
   "metadata": {},
   "source": [
    "There is a sophisticated means of indexing into a vector type within an OpenCL kernel, however from the host one has to use the **.s[index]** indexing to get at individual elements.\n",
    "\n",
    "```C++\n",
    "// Code from the host\n",
    "\n",
    "// Declare an initialised vector\n",
    "cl_float4 f = (cl_float4){0.0, 1.0, 2.0, 3.0};\n",
    "    \n",
    "// Could have also been done like this\n",
    "//cl_float4 f = (cl_float4){0.0};\n",
    "\n",
    "// Print out the last element\n",
    "std::printf(\"%f\\n\", f.s[3]);\n",
    "    \n",
    "// Store a value in the last element\n",
    "f.s[3] = 10.0;\n",
    "    \n",
    "// Print out the last element again\n",
    "std::printf(\"%f\\n\", f.s[3]);\n",
    "```\n",
    "\n",
    "You might have noticed that a complex type is currently missing from the OpenCL standard. However we can use 2 component vector such as **float2** to represent complex numbers."
   ]
  },
  {
   "cell_type": "markdown",
   "id": "8cb64c25-593e-4526-a731-c22a5f575968",
   "metadata": {},
   "source": [
    "### Vector indexing within a kernel"
   ]
  },
  {
   "cell_type": "markdown",
   "id": "747c6598-d1d4-40ce-93da-7946aebf894e",
   "metadata": {},
   "source": [
    "Access to a vector type from within a kernel is done using dot notation. You can use **.x .y .z** and **.w** for the first four elements, or you can use **.s0, .s1, .s2, .s3, .s4, .s5, .s6, .s7, .s8, .s9, .sa, .sb, .sc, .sd, .se, .sf** to access values up to the 16th element. The cool thing about OpenCL vectors is that you can \"swizzle\", or permute indices (using either .xyzw or .s* but not both) to mix up the order of the vector."
   ]
  },
  {
   "cell_type": "markdown",
   "id": "6db43c6c-6f56-4fb6-850f-69904727afb0",
   "metadata": {},
   "source": [
    "```C++\n",
    "// Code within a kernel\n",
    "\n",
    "// Explicit declaration\n",
    "float4 f = (float4)(1.0f, 2.0f, 3.0f, 4.0f);\n",
    "\n",
    "// Explicit declaration\n",
    "float4 v = (float4)(1.0f);\n",
    "\n",
    "// Valid examples of swizzling\n",
    "v.xyzw = f.wzyx;\n",
    "v.xyzw = f.s3210;\n",
    "```"
   ]
  },
  {
   "cell_type": "markdown",
   "id": "aacb9928-9278-41cd-8ee8-a079e69da40b",
   "metadata": {},
   "source": [
    "You can also load and store vectors from a memory allocation using the **vloadn** and **vstoren** functions. \n",
    "\n",
    "```C++\n",
    "\n",
    "// OpenCL kernel code\n",
    "\n",
    "// Assuming arr is a memory allocation from global memory\n",
    "\n",
    "// Load a float4 vector starting at the memory location of offset*4\n",
    "float4 f = vloadn(offset, arr);\n",
    "\n",
    "// Store a float4 vector starting at the memory location of offset*4\n",
    "vstore4(f, offset, arr);\n",
    "```\n",
    "\n",
    "In order to avoid undefined behaviour the address **arr** for the allocation needs to be byte-aligned to the data type being used. Usually the OpenCL implementation and the **calloc** function align memory allocations to the largest possible alignment. So as long as you use the allocated address as the address for **vstoren** and **vloadn** functions you will be fine."
   ]
  }
 ],
 "metadata": {
  "kernelspec": {
   "display_name": "Python 3",
   "language": "python",
   "name": "python3"
  },
  "language_info": {
   "codemirror_mode": {
    "name": "ipython",
    "version": 3
   },
   "file_extension": ".py",
   "mimetype": "text/x-python",
   "name": "python",
   "nbconvert_exporter": "python",
   "pygments_lexer": "ipython3",
   "version": "3.8.8"
  }
 },
 "nbformat": 4,
 "nbformat_minor": 5
}
