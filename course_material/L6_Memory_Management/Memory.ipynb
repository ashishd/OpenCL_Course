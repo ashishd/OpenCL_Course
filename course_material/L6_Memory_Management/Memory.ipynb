{
 "cells": [
  {
   "cell_type": "markdown",
   "id": "24814a34-99bd-4235-a261-7b09473d4311",
   "metadata": {},
   "source": [
    "# Memory managment in OpenCL"
   ]
  },
  {
   "cell_type": "markdown",
   "id": "c85a12c9-d482-4b05-a0d5-e2e5c2e0cf6e",
   "metadata": {},
   "source": [
    "In previous lessons we have looked at straightforward ways in which memory was allocated on the host and then copied to the device for use as global memory by the kernel. In the introduction we briefly covered the five different memory spaces that are accessible to an OpenCL Program.\n",
    "\n",
    "* Host memory\n",
    "* Global memory\n",
    "* Local (shared) memory\n",
    "* Private memory\n",
    "* Constant memory"
   ]
  },
  {
   "cell_type": "markdown",
   "id": "d3c32cea-4730-4e40-99e8-933dcb20ce65",
   "metadata": {},
   "source": [
    "**Host memory** is usually the largest memory space on the host, and **global memory** is the largest and slowest memory space available on the compute device. **Local** and **Constant** memory is usually placed in the small, fast caches on the compute device. **Private memory** is usually located in the registers, which are normally the fastest and smallest memory spaces available on the compute device. A programmer has some degree of control over where memory is stored during the operation of an OpenCL program. The diagram below shows what memory is available for access by both host and kernel threads (work-items) at runtime. "
   ]
  },
  {
   "cell_type": "markdown",
   "id": "62146edd-84d2-40d7-a7f4-7c1dde1e1a08",
   "metadata": {},
   "source": [
    "<figure style=\"margin-left:auto; margin-right:auto; width:80%;\">\n",
    "    <img style=\"vertical-align:middle\" src=\"../images/memory_spaces.svg\">\n",
    "    <figcaption style= \"text-align:lower; margin:1em; float:bottom; vertical-align:bottom;\">Access to memory from kernel and host threads.</figcaption>\n",
    "</figure>"
   ]
  },
  {
   "cell_type": "markdown",
   "id": "a99477a5-38b9-4632-94ce-2dcf8982c0d9",
   "metadata": {},
   "source": [
    "Kernel threads (work-items) can access *global*, *constant*, *local* and *private* memory, whereas host threads can only access *host* and *global* memory. Private memory for a kernel thread is exclusive to the kernel, meaning that no other kernel can access the same private memory. Local memory is accessible to all kernel threads in a workgroup, but not to kernel threads from another workgroup. *Global* and *Constant* memory is accessible from all kernel threads."
   ]
  },
  {
   "cell_type": "markdown",
   "id": "467e06fb-19be-45cf-8cc4-5fa5642381b7",
   "metadata": {},
   "source": [
    "## Memory access from the host\n",
    "\n",
    "From the introduction we know that Buffers are allocated on the host and they are migrated in and out of the compute device when they are needed. Here are some ways we can create Buffers and transfer memory in and out of them. \n",
    "\n",
    "### Buffer creation\n",
    "\n",
    "Thus far we have been creating Buffers with the [clCreateBuffer](https://www.khronos.org/registry/OpenCL/sdk/3.0/docs/man/html/clCreateBuffer.html) function using the **CL_MEM_READ_WRITE** flag. For example, this code creates a Buffer that has read-write access from the kernel, but no additional functionality.\n",
    "\n",
    "```C++\n",
    "    cl_mem buffer_C = clCreateBuffer(context, \n",
    "                                     CL_MEM_READ_WRITE, \n",
    "                                     nbytes_C, \n",
    "                                     NULL, \n",
    "                                     &errcode);\n",
    "```\n",
    "\n",
    "#### IO permission flags\n",
    "\n",
    "We can choose other IO flags to let the OpenCL implementation how the Buffer is to be used. This may unlock additional optimisations.\n",
    "\n",
    "| **Allocation flag** | **Functionality** | \n",
    "| :- | :- | \n",
    "|CL_MEM_READ_WRITE| Read-write access from a kernel | \n",
    "|CL_MEM_WRITE_ONLY| Write-only access from a kernel | \n",
    "|CL_MEM_READ_ONLY | Read-only access from a kernel | \n",
    "|CL_MEM_HOST_WRITE_ONLY | Write-only access from the host | \n",
    "|CL_MEM_HOST_READ_ONLY | Read-only access from the host | \n",
    "|CL_MEM_HOST_NO_ACCESS | No access from the host | \n",
    "\n",
    "Common-sense rules apply in the use of these flags, for example **CL_MEM_WRITE_ONLY** is incompatible with **CL_MEM_READ_WRITE**, and behaviour is undefined if one tries to write to a buffer that has been set as **CL_MEM_READ_ONLY**.\n",
    "\n",
    "#### Using host memory\n",
    "\n",
    "The flag **CL_MEM_USE_HOST_PTR** allows the Buffer to use host memory as the backing store for a Buffer. One must make sure that there is enough host memory allocated to cover the memory used by the buffer and that the host memory is not de-allocated while the buffer is using it. OpenCL implementations are free to allocate caches on the compute device for temporary usage and then synchronize as required. Memory synchronization can be explicitly done using **mapping**, which will be discussed shortly.\n",
    "\n",
    "Similarly, the flag **CL_MEM_COPY_HOST_PTR** creates an OpenCL buffer but copies memory from a host pointer during buffer creation. After the copy finishes, the host pointer is then released.  \n",
    "\n",
    "Both **CL_MEM_USE_HOST_PTR** and **CL_MEM_COPY_HOST_PTR** require a host pointer to be passed into the call to [clCreateBuffer](https://www.khronos.org/registry/OpenCL/sdk/3.0/docs/man/html/clCreateBuffer.html).\n",
    "\n",
    "#### Creating buffers for asynchronous copies\n",
    "\n",
    "Pinned memory is host memory that cannot be paged out to swap. It enables fast Direct Memory Access (DMA) transfers from the host, however it is limited by the OS to a fraction of the available memory. Normally, transfers between host and device - for example using [clEnqueueReadBuffer](https://www.khronos.org/registry/OpenCL/sdk/3.0/docs/man/html/clEnqueueReadBuffer.html) or [clEnqueueWriteBuffer](https://www.khronos.org/registry/OpenCL/sdk/3.0/docs/man/html/clEnqueueReadBuffer.html) - are synchronous, meaning they actually block until the transfer completes. The flag **CL_MEM_ALLOC_HOST_PTR** allocates pinned memory on the host as the backing store for the OpenCL buffer. This also enables asynchronous transfers so that IO movement can occur at the same time as compute."
   ]
  },
  {
   "cell_type": "markdown",
   "id": "f918e29b-845c-4df0-8e75-23f940b5ec1e",
   "metadata": {},
   "source": [
    "### Explicit memory movement\n",
    "\n",
    "The OpenCL 1.2 and earlier standards require explicit memory transfers between OpenCL buffer and host. You have the option of copying either contiguous or rectangular regions of allocated memory. By rectangular I mean that if the memory allocation is interpreted as being **folded into a multidimensional array** then a rectangular copy would copy a rectangular region of that array."
   ]
  },
  {
   "cell_type": "markdown",
   "id": "57e69336-4b71-4b19-978d-cd7c3d716f3a",
   "metadata": {},
   "source": [
    "#### Contiguous copies\n",
    "\n",
    "<figure style=\"margin-left:auto; margin-right:auto; width:80%;\">\n",
    "    <img style=\"vertical-align:middle\" src=\"../images/contiguous_memory_copy.svg\">\n",
    "    <figcaption style= \"text-align:lower; margin:1em; float:bottom; vertical-align:bottom;\">Contiguous memory copy.</figcaption>\n",
    "</figure>\n",
    "\n",
    "If you need to copy contiguous chunks of memory, then [clEnqueueWriteBuffer](https://www.khronos.org/registry/OpenCL/sdk/3.0/docs/man/html/clEnqueueWriteBuffer.html) **writes to** the OpenCL buffer from host memory and [clEnqueueReadBuffer](https://www.khronos.org/registry/OpenCL/sdk/3.0/docs/man/html/clEnqueueReadBuffer.html) reads **from** a buffer to host memory. The function [clEnqueueCopyBuffer](https://www.khronos.org/registry/OpenCL/sdk/3.0/docs/man/html/clEnqueueCopyBuffer.html) performs a copy of contiguous memory between two OpenCL buffers **within the same OpenCL context**. All three options have the ability to specify a starting offset (in bytes) within the OpenCL buffer, and [clEnqueueCopyBuffer](https://www.khronos.org/registry/OpenCL/sdk/3.0/docs/man/html/clEnqueueReadBuffer.html) has the additional capability to specify the offset for the destination buffer."
   ]
  },
  {
   "cell_type": "markdown",
   "id": "74dcc1d3-ab71-4ba9-9db4-1b5f6976786a",
   "metadata": {},
   "source": [
    "#### Rectangular copies\n",
    "\n",
    "Sometimes a contiguous copy is not sufficient, particularly when you treat the the allocation as a multi-dimensional array and wish to copy a rectangular region. The functions [clEnqueueWriteBufferRect](https://www.khronos.org/registry/OpenCL/sdk/3.0/docs/man/html/clEnqueueWriteBufferRect.html) **writes** a 3D rectangular region to the OpenCL buffer from host memory and [clEnqueueReadBufferRect](https://www.khronos.org/registry/OpenCL/sdk/3.0/docs/man/html/clEnqueueReadBufferRect.html) **reads** a 3D rectangular region from host memory. \n",
    "\n",
    "<figure style=\"margin-left:auto; margin-right:auto; width:80%;\">\n",
    "    <img style=\"vertical-align:middle\" src=\"../images/rectangular_memory_copy.svg\">\n",
    "    <figcaption style= \"text-align:lower; margin:1em; float:bottom; vertical-align:bottom;\">Rectangular memory copy.</figcaption>\n",
    "</figure>\n",
    "\n",
    "I found the documentation on these functions quite confusing to comprehend, particularly in translating from one indexing system to another. It is important to remember that the word **\"row\"** in the documentation is the dimension along which memory is contiguous. Row pitch is the number of bytes along a row of **the memory allocation**, and slice pitch is the number of bytes in a slice of **the memory allocation**. Within the memory allocation a **region** is selected for the copy, it is of size (nbytes along the row, nrows, nslices). If you are only doing a 2D copy then use a value of 1 for **nslices**. The copy can be located at an **origin** within the memory allocation, this has units of (offset in bytes along a row, row id, slice id). Row id and slice id's start at 0. \n",
    "\n",
    "Rectangular copies result in more efficient copies than enqueuing numerous calls to the contiguous memory copy functions to cover the same region. In similar fashion, the function  [clEnqueueCopyBufferRect](https://www.khronos.org/registry/OpenCL/sdk/3.0/docs/man/html/clEnqueueCopyBufferRect.html) copies 3D rectangular regions between OpenCL buffers. "
   ]
  },
  {
   "cell_type": "markdown",
   "id": "a8969a48-55cd-41a3-a671-d9ab9d9f4cb8",
   "metadata": {},
   "source": [
    "#### Buffer mapping\n",
    "\n",
    "With the contiguous and rectangular copies there are two memory spaces in use, one for the OpenCL buffer and one for the host. It is possible to map (or make available) an OpenCL buffer as an allocation of host memory, thus avoiding the explicit memory transfer. This approach can be particularly beneficial when a CPU or integrated GPU is employed, as the memory for the buffer is already on the host and no actual transfer from the device is needed. Buffer mapping can be useful for GPU's as well. With buffer mapping the OpenCL implementation has the opportunity to optimise transfers and synchronisation between OpenCL buffer and host. The command [clEnqueueMapBuffer](https://www.khronos.org/registry/OpenCL/sdk/3.0/docs/man/html/clEnqueueMapBuffer.html) maps an OpenCL buffer into host memory. It uses the following mapping flags:\n",
    "\n",
    "| **Mapping flag** | **Functionality** | \n",
    "| :- | :- | \n",
    "|CL_MAP_READ | The buffer is being mapped for reading | \n",
    "|CL_MAP_WRITE | The buffer is being mapped for writing | \n",
    "|CL_MAP_WRITE_INVALIDATE_REGION | The buffer is going to be written by the host soon and we don't need to care what is in it (potential source of optimisation).\n",
    "\n",
    "When a buffer is mapped, access to it from an OpenCL kernel is considered to be undefined behaviour. The [clEnqueueUnmapMemObject](https://www.khronos.org/registry/OpenCL/sdk/3.0/docs/man/html/clEnqueueUnmapMemObject.html) function unmaps the memory from the host and makes it available to kernels again."
   ]
  },
  {
   "cell_type": "markdown",
   "id": "97303913-71e7-4f35-828a-199eca117c02",
   "metadata": {},
   "source": [
    "#### Initialisation\n",
    "\n",
    "Sometimes you need to fill or initialise the contents of a buffer. The [clEnqueueFillBuffer](https://www.khronos.org/registry/OpenCL/sdk/3.0/docs/man/html/clEnqueueFillBuffer.html) command fills buffers with a user-defined pattern such as 0, for example."
   ]
  },
  {
   "cell_type": "markdown",
   "id": "39d4816a-e65e-4186-9ee3-4c8745859a45",
   "metadata": {},
   "source": [
    "## Memory access from kernels"
   ]
  },
  {
   "cell_type": "markdown",
   "id": "08d6193d-622d-474e-94af-fd5e6ce81e9e",
   "metadata": {},
   "source": [
    "### Global"
   ]
  },
  {
   "cell_type": "markdown",
   "id": "c411c212-c335-412c-bbad-f6647885d858",
   "metadata": {},
   "source": [
    "### Local"
   ]
  },
  {
   "cell_type": "markdown",
   "id": "a3139b0c-ce16-47d1-b95b-2037f8a9f983",
   "metadata": {},
   "source": [
    "### Shared"
   ]
  },
  {
   "cell_type": "markdown",
   "id": "99f155b3-0ede-4b9e-be9c-7dff37909516",
   "metadata": {},
   "source": [
    "### Private"
   ]
  },
  {
   "cell_type": "markdown",
   "id": "b3962512-af4a-4530-b65d-28ce213b8a14",
   "metadata": {},
   "source": [
    "### Accessing vector elements "
   ]
  },
  {
   "cell_type": "markdown",
   "id": "4f86af5e-1857-42e8-a3ff-7036697fe3bf",
   "metadata": {},
   "source": [
    "## Using shared memory"
   ]
  },
  {
   "cell_type": "markdown",
   "id": "7b136f7b-8bd1-4dd2-b610-a055bf836403",
   "metadata": {},
   "source": [
    "### Allocation \n",
    "\n",
    "### Synchronisation\n",
    "\n",
    "### Use within a kernel"
   ]
  },
  {
   "cell_type": "code",
   "execution_count": null,
   "id": "475196ea-ef31-424e-9175-61e2d11e34d1",
   "metadata": {},
   "outputs": [],
   "source": []
  }
 ],
 "metadata": {
  "kernelspec": {
   "display_name": "Python 3 (ipykernel)",
   "language": "python",
   "name": "python3"
  },
  "language_info": {
   "codemirror_mode": {
    "name": "ipython",
    "version": 3
   },
   "file_extension": ".py",
   "mimetype": "text/x-python",
   "name": "python",
   "nbconvert_exporter": "python",
   "pygments_lexer": "ipython3",
   "version": "3.8.5"
  }
 },
 "nbformat": 4,
 "nbformat_minor": 5
}
