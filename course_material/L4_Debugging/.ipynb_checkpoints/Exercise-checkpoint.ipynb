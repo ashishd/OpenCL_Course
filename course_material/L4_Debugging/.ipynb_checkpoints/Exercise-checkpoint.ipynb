{
 "cells": [
  {
   "cell_type": "markdown",
   "id": "d6443b86-83d9-45b0-bebc-35d3a64d55da",
   "metadata": {
    "tags": []
   },
   "source": [
    "# Exercise - Hadamard matrix multiplication gone wrong!\n",
    "\n",
    "In this exercise we are going to use what we know to try and find an error in an OpenCL program. The code perfoms a Hadamard Matrix multiplication, where the values in matrices **D** and **E** at coordinates (i0,i1) are multiplied **elementwise** to set a value at coordinates (i0,i1) in matrix **F**. It is very similar to the matrix multiplication code we have been examining, but simpler.\n",
    "\n",
    "<figure style=\"margin-left:auto; margin-right:auto; width:80%;\">\n",
    "    <img style=\"vertical-align:middle\" src=\"../images/elementwise_multiplication.svg\">\n",
    "    <figcaption style= \"text-align:lower; margin:1em; float:bottom; vertical-align:bottom;\">Elementwise multiplication of matrices D and E to get F.</figcaption>\n",
    "</figure>\n",
    "\n",
    "The source code is located in [mat_elementwise.cpp](mat_elementwise_buggy.cpp) and the kernel is in [kernels_elementwise.c](kernels_elementwise.c). The problem is similar to standard matrix multiplication in almost every way. The steps are: \n",
    "\n",
    "1. Device discovery and selection\n",
    "1. Matrices **D_h** and **E_h** allocated on the host and filled with random numbers.\n",
    "1. Matrices **D_d** and **E_d** allocated on the compute device\n",
    "1. Matrices **D_h** and **E_h** uploaded to device allocations **D_d** and **E_d**\n",
    "1. The kernel **mat_elementwise** is run on the device to compute **F_d** from **D_d** and **E_d**.\n",
    "1. **F_d** is copied to **F_h** and compared with the solution **F_answer_h** from sequential CPU code.\n",
    "1. Memory and device cleanup\n",
    "\n",
    "This code has some critical bugs that produce rubbish output. It is your task to find these bugs using whatever means necessary!"
   ]
  },
  {
   "cell_type": "markdown",
   "id": "c6d34934-6064-43d8-9188-c8a26956ee6b",
   "metadata": {},
   "source": [
    "## Run the solution\n",
    "\n",
    "If we run the solution it computes **F** using elementwise multiplication of matrices **D** and **E**. We see there is little or no residual between the computed matrix **F_h** and **F_answer_h**, the solution computed from a serial CPU code."
   ]
  },
  {
   "cell_type": "code",
   "execution_count": 1,
   "id": "a8b6ea91-17c3-46be-bb3a-90abcd480e1b",
   "metadata": {},
   "outputs": [
    {
     "name": "stdout",
     "output_type": "stream",
     "text": [
      "make: 'mat_elementwise_answer.exe' is up to date.\n",
      "\t               name: NVIDIA GeForce RTX 3060 Laptop GPU \n",
      "\t global memory size: 6226 MB\n",
      "\t    max buffer size: 1556 MB\n",
      "\t     max local size: (1024,1024,64)\n",
      "\t     max work-items: 1024\n",
      "The output array F_h (as computed with OpenCL) is\n",
      "--------\n",
      "|  2.03e-02  2.28e-01  1.54e-01  7.02e-02  6.04e-03  2.98e-01  2.10e-01  1.46e-02 |\n",
      "|  1.64e-01  2.82e-01  1.08e-01  2.96e-01  1.06e-01  1.82e-04  3.23e-02  3.78e-01 |\n",
      "|  3.19e-01  3.13e-01  1.10e-01  5.01e-01  7.22e-01  1.38e-01  1.28e-01  3.76e-01 |\n",
      "|  4.70e-01  5.85e-02  1.16e-02  4.71e-01  1.86e-01  2.93e-02  3.85e-01  6.56e-01 |\n",
      "--------\n",
      "The CPU solution (F_answer_h) is \n",
      "--------\n",
      "|  2.03e-02  2.28e-01  1.54e-01  7.02e-02  6.04e-03  2.98e-01  2.10e-01  1.46e-02 |\n",
      "|  1.64e-01  2.82e-01  1.08e-01  2.96e-01  1.06e-01  1.82e-04  3.23e-02  3.78e-01 |\n",
      "|  3.19e-01  3.13e-01  1.10e-01  5.01e-01  7.22e-01  1.38e-01  1.28e-01  3.76e-01 |\n",
      "|  4.70e-01  5.85e-02  1.16e-02  4.71e-01  1.86e-01  2.93e-02  3.85e-01  6.56e-01 |\n",
      "--------\n",
      "The residual (F_answer_h-F_h) is\n",
      "--------\n",
      "|  0.00e+00  0.00e+00  0.00e+00  0.00e+00  0.00e+00  0.00e+00  0.00e+00  0.00e+00 |\n",
      "|  0.00e+00  0.00e+00  0.00e+00  0.00e+00  0.00e+00  0.00e+00  0.00e+00  0.00e+00 |\n",
      "|  0.00e+00  0.00e+00  0.00e+00  0.00e+00  0.00e+00  0.00e+00  0.00e+00  0.00e+00 |\n",
      "|  0.00e+00  0.00e+00  0.00e+00  0.00e+00  0.00e+00  0.00e+00  0.00e+00  0.00e+00 |\n",
      "--------\n"
     ]
    }
   ],
   "source": [
    "!make mat_elementwise_answer.exe; ./mat_elementwise_answer.exe"
   ]
  },
  {
   "cell_type": "markdown",
   "id": "c8528461-e66a-43bb-a7b8-a416dab61f57",
   "metadata": {},
   "source": [
    "## Run the buggy application\n",
    "\n",
    "Now run the application that has some bugs in it."
   ]
  },
  {
   "cell_type": "code",
   "execution_count": 2,
   "id": "8885d264-8b91-4fc7-bd99-23750fe5d2bd",
   "metadata": {},
   "outputs": [
    {
     "name": "stdout",
     "output_type": "stream",
     "text": [
      "g++ -std=c++11 -g -O2 -fopenmp -O0 -I/usr/include -I../include -L/usr/lib/x86_64-linux-gnu mat_elementwise.cpp\\\n",
      "\t-o mat_elementwise.exe -lOpenCL\n",
      "In file included from \u001b[01m\u001b[Kmat_elementwise.cpp:15\u001b[m\u001b[K:\n",
      "\u001b[01m\u001b[K../include/cl_helper.hpp:\u001b[m\u001b[K In function ‘\u001b[01m\u001b[K_cl_command_queue** h_create_command_queues(_cl_device_id**, _cl_context**, cl_uint, cl_uint, cl_bool, cl_bool)\u001b[m\u001b[K’:\n",
      "\u001b[01m\u001b[K../include/cl_helper.hpp:337:49:\u001b[m\u001b[K \u001b[01;35m\u001b[Kwarning: \u001b[m\u001b[K‘\u001b[01m\u001b[K_cl_command_queue* clCreateCommandQueue(cl_context, cl_device_id, cl_command_queue_properties, cl_int*)\u001b[m\u001b[K’ is deprecated [\u001b[01;35m\u001b[K\u001b]8;;https://gcc.gnu.org/onlinedocs/gcc/Warning-Options.html#index-Wdeprecated-declarations\u0007-Wdeprecated-declarations\u001b]8;;\u0007\u001b[m\u001b[K]\n",
      "  337 |         command_queues[n] = \u001b[01;35m\u001b[KclCreateCommandQueue(\u001b[m\u001b[K\n",
      "      |                             \u001b[01;35m\u001b[K~~~~~~~~~~~~~~~~~~~~^\u001b[m\u001b[K\n",
      "  338 | \u001b[01;35m\u001b[K            contexts[n % num_devices],\u001b[m\u001b[K\n",
      "      |             \u001b[01;35m\u001b[K~~~~~~~~~~~~~~~~~~~~~~~~~~\u001b[m\u001b[K           \n",
      "  339 | \u001b[01;35m\u001b[K            devices[n % num_devices],\u001b[m\u001b[K\n",
      "      |             \u001b[01;35m\u001b[K~~~~~~~~~~~~~~~~~~~~~~~~~\u001b[m\u001b[K            \n",
      "  340 | \u001b[01;35m\u001b[K            queue_properties,\u001b[m\u001b[K\n",
      "      |             \u001b[01;35m\u001b[K~~~~~~~~~~~~~~~~~\u001b[m\u001b[K                    \n",
      "  341 | \u001b[01;35m\u001b[K            &errcode\u001b[m\u001b[K\n",
      "      |             \u001b[01;35m\u001b[K~~~~~~~~\u001b[m\u001b[K                             \n",
      "  342 | \u001b[01;35m\u001b[K        )\u001b[m\u001b[K;\n",
      "      |         \u001b[01;35m\u001b[K~\u001b[m\u001b[K                                        \n",
      "In file included from \u001b[01m\u001b[K../include/CL/opencl.h:24\u001b[m\u001b[K,\n",
      "                 from \u001b[01m\u001b[K../include/cl_helper.hpp:25\u001b[m\u001b[K,\n",
      "                 from \u001b[01m\u001b[Kmat_elementwise.cpp:15\u001b[m\u001b[K:\n",
      "\u001b[01m\u001b[K../include/CL/cl.h:1913:1:\u001b[m\u001b[K \u001b[01;36m\u001b[Knote: \u001b[m\u001b[Kdeclared here\n",
      " 1913 | \u001b[01;36m\u001b[KclCreateCommandQueue\u001b[m\u001b[K(cl_context                     context,\n",
      "      | \u001b[01;36m\u001b[K^~~~~~~~~~~~~~~~~~~~\u001b[m\u001b[K\n",
      "\t               name: NVIDIA GeForce RTX 3060 Laptop GPU \n",
      "\t global memory size: 6226 MB\n",
      "\t    max buffer size: 1556 MB\n",
      "\t     max local size: (1024,1024,64)\n",
      "\t     max work-items: 1024\n",
      "The output array F_h (as computed with OpenCL) is\n",
      "--------\n",
      "|  4.65e-02  5.70e-01  2.00e-01  3.39e-01  3.05e-01  5.97e-01  1.63e-01  7.47e-02 |\n",
      "|  4.27e-01  1.56e-03  1.64e-01  5.18e-01  7.22e-02  3.28e-02  4.14e-02  1.97e-01 |\n",
      "|  3.77e-03  2.42e-01  1.25e-01  3.10e-01  9.92e-02  2.86e-01  2.05e-01  1.98e-01 |\n",
      "|  6.06e-01  0.00e+00  0.00e+00  0.00e+00  0.00e+00  0.00e+00  0.00e+00  0.00e+00 |\n",
      "--------\n",
      "The CPU solution (F_answer_h) is \n",
      "--------\n",
      "|  4.65e-02  5.70e-01  2.00e-01  3.39e-01  3.05e-01  5.97e-01  1.63e-01  7.47e-02 |\n",
      "|  4.27e-01  1.56e-03  1.64e-01  5.18e-01  7.22e-02  3.28e-02  4.14e-02  1.97e-01 |\n",
      "|  3.77e-03  2.42e-01  1.25e-01  3.10e-01  9.92e-02  2.86e-01  2.05e-01  1.98e-01 |\n",
      "|  6.06e-01  6.19e-01  7.81e-04  3.91e-01  4.42e-02  1.39e-01  2.17e-01  7.71e-01 |\n",
      "--------\n",
      "The residual (F_answer_h-F_h) is\n",
      "--------\n",
      "|  0.00e+00  0.00e+00  0.00e+00  0.00e+00  0.00e+00  0.00e+00  0.00e+00  0.00e+00 |\n",
      "|  0.00e+00  0.00e+00  0.00e+00  0.00e+00  0.00e+00  0.00e+00  0.00e+00  0.00e+00 |\n",
      "|  0.00e+00  0.00e+00  0.00e+00  0.00e+00  0.00e+00  0.00e+00  0.00e+00  0.00e+00 |\n",
      "|  0.00e+00  6.19e-01  7.81e-04  3.91e-01  4.42e-02  1.39e-01  2.17e-01  7.71e-01 |\n",
      "--------\n"
     ]
    }
   ],
   "source": [
    "!make mat_elementwise.exe; ./mat_elementwise.exe"
   ]
  },
  {
   "cell_type": "markdown",
   "id": "a1dc3e97-d73f-4161-94fb-1913143360b1",
   "metadata": {},
   "source": [
    "For some reason nearly all the elements of the last row of **F_h** are filled with an incorrect solution."
   ]
  },
  {
   "cell_type": "markdown",
   "id": "d91b193b-40d3-4742-acf9-3220ba6a344e",
   "metadata": {},
   "source": [
    "## Tasks\n",
    "\n",
    "Your task is to try and find the error using any of the techniques found in the lesson. You can of course have a look at the differences between [mat_elementwise_answer.cpp](mat_elementwise_answer.cpp) and [mat_elementwise.cpp](mat_elementwise.cpp) if you get stuck, but then try to understand why the bug messed up the solution."
   ]
  },
  {
   "cell_type": "markdown",
   "id": "e256ebdb-92ec-4c4d-82e2-07ec4543c037",
   "metadata": {},
   "source": [
    "<address>\n",
    "Written by Dr. Toby Potter of <a href=\"https://www.pelagos-consulting.com\">Pelagos Consulting and Education</a> for the Pawsey Supercomputing Centre\n",
    "</address>"
   ]
  }
 ],
 "metadata": {
  "kernelspec": {
   "display_name": "Python 3 (ipykernel)",
   "language": "python",
   "name": "python3"
  },
  "language_info": {
   "codemirror_mode": {
    "name": "ipython",
    "version": 3
   },
   "file_extension": ".py",
   "mimetype": "text/x-python",
   "name": "python",
   "nbconvert_exporter": "python",
   "pygments_lexer": "ipython3",
   "version": "3.9.12"
  }
 },
 "nbformat": 4,
 "nbformat_minor": 5
}
