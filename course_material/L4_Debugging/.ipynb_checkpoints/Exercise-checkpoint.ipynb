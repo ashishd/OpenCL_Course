{
 "cells": [
  {
   "cell_type": "markdown",
   "id": "d6443b86-83d9-45b0-bebc-35d3a64d55da",
   "metadata": {
    "tags": []
   },
   "source": [
    "# Exercise - Hadamard matrix multiplication gone wrong!\n",
    "\n",
    "In this exercise we are going to use what we know to try and find an error in an OpenCL program. The code perfoms a Hadamard Matrix multiplication, where the values in matrices **D** and **E** at coordinates (i0,i1) are multiplied **elementwise** to set a value at coordinates (i0,i1) in matrix **F**. It is very similar to the matrix multiplication code we have been examining, but simpler.\n",
    "\n",
    "<figure style=\"margin-left:auto; margin-right:auto; width:80%;\">\n",
    "    <img style=\"vertical-align:middle\" src=\"../images/elementwise_multiplication.svg\">\n",
    "    <figcaption style= \"text-align:lower; margin:1em; float:bottom; vertical-align:bottom;\">Elementwise multiplication of matrices D and E to get F.</figcaption>\n",
    "</figure>\n",
    "\n",
    "The source code is located in [mat_elementwise_bug.cpp](mat_elementwise_bug.cpp) and is similar to the matrix multiplication example <a href=\"../L3_Matrix_Multiplication/mat_mult.cpp\">mat_mult.cpp</a> in almost every aspect. The steps are: \n",
    "\n",
    "1. Device discovery and selection\n",
    "1. Matrices **D_h** and **E_h** allocated on the host and filled with random numbers.\n",
    "1. Matrices **D_d** and **E_d** allocated on the compute device\n",
    "1. Matrices **D_h** and **E_h** uploaded to device allocations **D_d** and **E_d**\n",
    "1. The kernel **mat_elementwise** is run on the device to compute **F_d** from **D_d** and **E_d**.\n",
    "1. **F_d** is copied to **F_h** and compared with the solution **F_answer_h** from sequential CPU code.\n",
    "1. Memory and device cleanup\n",
    "\n",
    "This code has some critical bugs that produce rubbish output. It is your task to find these bugs using whatever means necessary!"
   ]
  },
  {
   "cell_type": "markdown",
   "id": "c6d34934-6064-43d8-9188-c8a26956ee6b",
   "metadata": {},
   "source": [
    "## Run the solution\n",
    "\n",
    "If we run the solution it computes **F** using elementwise multiplication of matrices **D** and **E**. We see there is little or no residual between the computed matrix **F_h** and **F_answer_h**, the solution computed from a serial CPU code."
   ]
  },
  {
   "cell_type": "code",
   "execution_count": 7,
   "id": "a8b6ea91-17c3-46be-bb3a-90abcd480e1b",
   "metadata": {},
   "outputs": [
    {
     "name": "stdout",
     "output_type": "stream",
     "text": [
      "make: 'mat_elementwise_answer.exe' is up to date.\n",
      "\t               name: NVIDIA GeForce RTX 3060 Laptop GPU \n",
      "\t global memory size: 6226 MB\n",
      "\t    max buffer size: 1556 MB\n",
      "\t     max local size: (1024,1024,64)\n",
      "\t     max work-items: 1024\n",
      "The output array F_h (as computed with OpenCL) is\n",
      "--------\n",
      "|  4.67e-01  1.48e-01  4.33e-02  1.45e-01  5.56e-01  6.46e-01  2.48e-01  8.07e-02 |\n",
      "|  6.41e-01  3.45e-01  4.86e-01  3.20e-01  5.99e-01  8.48e-02  8.26e-02  3.35e-01 |\n",
      "|  1.29e-01  3.28e-01  3.96e-02  1.28e-01  1.50e-01  3.18e-03  2.00e-01  2.18e-02 |\n",
      "|  8.87e-01  3.70e-01  3.96e-01  5.27e-01  4.40e-01  1.25e-01  3.29e-01  3.10e-01 |\n",
      "--------\n",
      "The CPU solution (F_answer_h) is \n",
      "--------\n",
      "|  4.67e-01  1.48e-01  4.33e-02  1.45e-01  5.56e-01  6.46e-01  2.48e-01  8.07e-02 |\n",
      "|  6.41e-01  3.45e-01  4.86e-01  3.20e-01  5.99e-01  8.48e-02  8.26e-02  3.35e-01 |\n",
      "|  1.29e-01  3.28e-01  3.96e-02  1.28e-01  1.50e-01  3.18e-03  2.00e-01  2.18e-02 |\n",
      "|  8.87e-01  3.70e-01  3.96e-01  5.27e-01  4.40e-01  1.25e-01  3.29e-01  3.10e-01 |\n",
      "--------\n",
      "The residual (F_answer_h-F_h) is\n",
      "--------\n",
      "|  0.00e+00  0.00e+00  0.00e+00  0.00e+00  0.00e+00  0.00e+00  0.00e+00  0.00e+00 |\n",
      "|  0.00e+00  0.00e+00  0.00e+00  0.00e+00  0.00e+00  0.00e+00  0.00e+00  0.00e+00 |\n",
      "|  0.00e+00  0.00e+00  0.00e+00  0.00e+00  0.00e+00  0.00e+00  0.00e+00  0.00e+00 |\n",
      "|  0.00e+00  0.00e+00  0.00e+00  0.00e+00  0.00e+00  0.00e+00  0.00e+00  0.00e+00 |\n",
      "--------\n"
     ]
    }
   ],
   "source": [
    "!make mat_elementwise_answer.exe; ./mat_elementwise_answer.exe"
   ]
  },
  {
   "cell_type": "markdown",
   "id": "c8528461-e66a-43bb-a7b8-a416dab61f57",
   "metadata": {},
   "source": [
    "## Run the buggy application\n",
    "\n",
    "Now run the application that has some bugs in it."
   ]
  },
  {
   "cell_type": "code",
   "execution_count": 10,
   "id": "8885d264-8b91-4fc7-bd99-23750fe5d2bd",
   "metadata": {},
   "outputs": [
    {
     "name": "stdout",
     "output_type": "stream",
     "text": [
      "make: 'mat_elementwise.exe' is up to date.\n",
      "\t               name: NVIDIA GeForce RTX 3060 Laptop GPU \n",
      "\t global memory size: 6226 MB\n",
      "\t    max buffer size: 1556 MB\n",
      "\t     max local size: (1024,1024,64)\n",
      "\t     max work-items: 1024\n",
      "The output array F_h (as computed with OpenCL) is\n",
      "--------\n",
      "|  1.21e-01  1.83e-02  4.67e-02  2.91e-01  3.45e-02  2.33e-02  7.31e-02  4.29e-01 |\n",
      "|  1.20e-01  2.25e-01  3.12e-02  1.63e-01  4.72e-01  2.96e-03  1.05e-01  7.20e-02 |\n",
      "|  6.73e-01  3.59e-01  1.77e-02  7.43e-01  2.56e-01  4.28e-02  2.46e-02  7.97e-02 |\n",
      "|  3.88e-01  0.00e+00  0.00e+00  0.00e+00  0.00e+00  0.00e+00  0.00e+00  0.00e+00 |\n",
      "--------\n",
      "The CPU solution (F_answer_h) is \n",
      "--------\n",
      "|  1.21e-01  1.83e-02  4.67e-02  2.91e-01  3.45e-02  2.33e-02  7.31e-02  4.29e-01 |\n",
      "|  1.20e-01  2.25e-01  3.12e-02  1.63e-01  4.72e-01  2.96e-03  1.05e-01  7.20e-02 |\n",
      "|  6.73e-01  3.59e-01  1.77e-02  7.43e-01  2.56e-01  4.28e-02  2.46e-02  7.97e-02 |\n",
      "|  3.88e-01  4.51e-01  2.38e-01  8.18e-03  1.11e-01  1.81e-02  1.62e-01  6.24e-01 |\n",
      "--------\n",
      "The residual (F_answer_h-F_h) is\n",
      "--------\n",
      "|  0.00e+00  0.00e+00  0.00e+00  0.00e+00  0.00e+00  0.00e+00  0.00e+00  0.00e+00 |\n",
      "|  0.00e+00  0.00e+00  0.00e+00  0.00e+00  0.00e+00  0.00e+00  0.00e+00  0.00e+00 |\n",
      "|  0.00e+00  0.00e+00  0.00e+00  0.00e+00  0.00e+00  0.00e+00  0.00e+00  0.00e+00 |\n",
      "|  0.00e+00  4.51e-01  2.38e-01  8.18e-03  1.11e-01  1.81e-02  1.62e-01  6.24e-01 |\n",
      "--------\n"
     ]
    }
   ],
   "source": [
    "!make mat_elementwise.exe; ./mat_elementwise.exe"
   ]
  },
  {
   "cell_type": "markdown",
   "id": "a1dc3e97-d73f-4161-94fb-1913143360b1",
   "metadata": {},
   "source": [
    "For some reason nearly all the elements of the last row of **F_h** is filled with zeros."
   ]
  },
  {
   "cell_type": "markdown",
   "id": "d91b193b-40d3-4742-acf9-3220ba6a344e",
   "metadata": {},
   "source": [
    "## Tasks\n",
    "\n",
    "Your task is to try and find the error using any of the techniques found in the lesson. You can of course diff the answer if you get frustrated, but then try to understand why the bug messed up the solution."
   ]
  },
  {
   "cell_type": "markdown",
   "id": "e256ebdb-92ec-4c4d-82e2-07ec4543c037",
   "metadata": {},
   "source": [
    "<address>\n",
    "Written by Dr. Toby Potter of <a href=\"https://www.pelagos-consulting.com\">Pelagos Consulting and Education</a> for the Pawsey Supercomputing Centre\n",
    "</address>"
   ]
  }
 ],
 "metadata": {
  "kernelspec": {
   "display_name": "Python 3 (ipykernel)",
   "language": "python",
   "name": "python3"
  },
  "language_info": {
   "codemirror_mode": {
    "name": "ipython",
    "version": 3
   },
   "file_extension": ".py",
   "mimetype": "text/x-python",
   "name": "python",
   "nbconvert_exporter": "python",
   "pygments_lexer": "ipython3",
   "version": "3.9.12"
  }
 },
 "nbformat": 4,
 "nbformat_minor": 5
}
