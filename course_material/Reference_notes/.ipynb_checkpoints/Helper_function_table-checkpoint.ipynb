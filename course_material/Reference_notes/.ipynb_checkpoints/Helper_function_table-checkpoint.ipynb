{
 "cells": [
  {
   "cell_type": "markdown",
   "id": "2f1df1a2-4088-4b9c-a8b5-ad0f2480c074",
   "metadata": {},
   "source": [
    "# Helper functions\n",
    "\n",
    "Here is a list of the useful helper functions in <a href=\"../include/cl_helper.hpp\">cl_helper.hpp</a> and what they do.\n",
    "\n",
    "| **Purpose** | **function name** | depends on | creates or fills |\n",
    "| :- | :- | :- | :- |\n",
    "|Parse command line arguments| **h_parse_args** | int argc, char** argv | cl_device_type, cl_uint |\n",
    "|Check OpenCL function return codes| **h_errchk** | cl_int, char[] | NA |\n",
    "|Acquire OpenCL resources | **h_acquire_devices** | cl_device_type | cl_platform_id[], cl_device_id[], cl_context[] |\n",
    "|Release OpenCL resources | **h_release_devices** | cl_device_id[], cl_context[], cl_platform_id[]  | NA |\n",
    "|Print a summary of compute device capabilities | **h_report_on_device** | cl_device_id | NA |\n",
    "|Create command queues | **h_create_command_queues** | cl_device_id[], cl_context[]  | cl_command_queue[] |\n",
    "|Release command queues | **h_release_command_queues** | cl_command_queue[] | NA |\n",
    "|Build and compile a program | **h_build_program** | char[], cl_context, cl_device_id | NA |\n",
    "| Fit global size for an integer number of workgroups | **h_fit_global_size** | size_t global_size[], size_t local_size[], size_t work_dim | size_t global_size[] |\n",
    "| Write a binary file to disk | **h_write_binary** | void* data, char filename[], size_t nbytes | NA |\n",
    "| Read a binary file from disk | **h_read_binary** | const char filename[] | void* data, size_t nbytes |\n",
    "| Extract walltime (in ms) from an event | **h_get_event_time_ms** | cl_event, const char message[], size_t *nbytes (optional) | cl_double |\n",
    "| Create IO rate (MB/s) from time (ms) and nbytes | **h_get_io_rate_MBs** | cl_double, size_t nbytes | cl_double |"
   ]
  },
  {
   "cell_type": "code",
   "execution_count": null,
   "id": "f62c0f03-d17f-4999-85e0-373c28bed852",
   "metadata": {},
   "outputs": [],
   "source": []
  }
 ],
 "metadata": {
  "kernelspec": {
   "display_name": "Python 3 (ipykernel)",
   "language": "python",
   "name": "python3"
  },
  "language_info": {
   "codemirror_mode": {
    "name": "ipython",
    "version": 3
   },
   "file_extension": ".py",
   "mimetype": "text/x-python",
   "name": "python",
   "nbconvert_exporter": "python",
   "pygments_lexer": "ipython3",
   "version": "3.8.5"
  }
 },
 "nbformat": 4,
 "nbformat_minor": 5
}
