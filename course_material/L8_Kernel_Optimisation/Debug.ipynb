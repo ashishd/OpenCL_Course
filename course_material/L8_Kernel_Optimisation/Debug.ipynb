{
 "cells": [
  {
   "cell_type": "markdown",
   "id": "e2cd343e-0a21-404a-9a16-3d347aa0bc4e",
   "metadata": {},
   "source": [
    "# Debugging bench"
   ]
  },
  {
   "cell_type": "code",
   "execution_count": 25,
   "id": "f41ae102-40d8-4c2e-a0ff-e8652187e6ff",
   "metadata": {},
   "outputs": [
    {
     "name": "stdout",
     "output_type": "stream",
     "text": [
      "rm -rf *.exe\n",
      "CC -g -fopenmp -O2 -I../include mat_mult_float.cpp -o mat_mult_float.exe -lOpenCL\n",
      "CC -g -fopenmp -O2 -I../include mat_mult_double.cpp -o mat_mult_double.exe -lOpenCL\n",
      "CC -g -fopenmp -O2 -I../include mat_mult_prefetch.cpp -o mat_mult_prefetch.exe -lOpenCL\n",
      "CC -g -fopenmp -O2 -I../include mat_mult_local_A.cpp -o mat_mult_local_A.exe -lOpenCL\n",
      "CC -g -fopenmp -O2 -I../include mat_mult_local_B.cpp -o mat_mult_local_B.exe -lOpenCL\n",
      "CC -g -fopenmp -O2 -I../include mat_mult_AT.cpp -o mat_mult_AT.exe -lOpenCL\n",
      "CC -g -fopenmp -O2 -I../include mat_mult_BT.cpp -o mat_mult_BT.exe -lOpenCL\n",
      "CC -g -fopenmp -O2 -I../include mat_mult_tile_local.cpp -o mat_mult_tile_local.exe -lOpenCL\n",
      "CC -g -fopenmp -O2 -I../include mat_mult_tile_local_vector.cpp -o mat_mult_tile_local_vector.exe -lOpenCL\n",
      "CC -g -fopenmp -O2 -I../include mat_mult_tile_AT.cpp -o mat_mult_tile_AT.exe -lOpenCL\n",
      "CC -g -fopenmp -O2 -I../include mat_mult_tile_BT.cpp -o mat_mult_tile_BT.exe -lOpenCL\n",
      "CC -g -fopenmp -O2 -I../include mat_mult_tile_vector_BT.cpp -o mat_mult_tile_vector_BT.exe -lOpenCL\n",
      "CC -g -fopenmp -O2 -I../include mat_mult_tile_local_BT.cpp -o mat_mult_tile_local_BT.exe -lOpenCL\n",
      "CC -g -fopenmp -O2 -I../include mat_mult_tile_local_vector_BT.cpp -o mat_mult_tile_local_vector_BT.exe -lOpenCL\n",
      "CC -g -fopenmp -O2 -I../include mat_mult_clblast.cpp -o mat_mult_clblast.exe -lOpenCL -lclblast\n",
      "CC -g -fopenmp -O2 -I../include mat_mult_clblast_md.cpp -o mat_mult_clblast_md.exe -lOpenCL -lclblast\n"
     ]
    }
   ],
   "source": [
    "!make clean; make"
   ]
  },
  {
   "cell_type": "code",
   "execution_count": 39,
   "id": "01512139-65c9-408d-9bd2-8b88c390e90a",
   "metadata": {},
   "outputs": [],
   "source": [
    "import os\n",
    "import sys\n",
    "import numpy as np\n",
    "sys.path.insert(0, os.path.abspath(\"../include\"))\n",
    "import subprocess\n",
    "import json\n",
    "import py_helper\n",
    "\n",
    "%matplotlib widget\n",
    "\n",
    "defines=py_helper.load_defines(\"mat_size.hpp\")\n",
    "\n",
    "NCOLS_A = defines[\"NCOLS_A\"]\n",
    "NROWS_C = defines[\"NROWS_C\"]\n",
    "NCOLS_C = defines[\"NCOLS_C\"]\n",
    "\n",
    "# A is of size (NROWS_C, NCOLS_A)\n",
    "# B is of size (NCOLS_A, NCOLS_C)    \n",
    "# C is of size (NROWS_C, NCOLS_C)\n",
    "\n",
    "mat_mul_double=py_helper.MatMul(NCOLS_A, NROWS_C, NCOLS_C, np.float64)\n",
    "mat_mul_float=py_helper.MatMul(NCOLS_A, NROWS_C, NCOLS_C, np.float32)\n",
    "\n",
    "# Make up objects for timing results and local optimisation\n",
    "timings=py_helper.TimingResults()"
   ]
  },
  {
   "cell_type": "code",
   "execution_count": null,
   "id": "26152c7f-2eba-42ef-8ef8-2aa9a4fbfd82",
   "metadata": {},
   "outputs": [],
   "source": [
    "local_opt=py_helper.LocalOpt(cmds=[\"./mat_mult_local_A.exe\", \"-cpu\", \"0\"])\n",
    "mat_mul_float.load_data()\n",
    "mat_mul_float.check_data()"
   ]
  },
  {
   "cell_type": "code",
   "execution_count": null,
   "id": "334835a1-b870-4008-a356-e9d42bdb5988",
   "metadata": {},
   "outputs": [],
   "source": []
  }
 ],
 "metadata": {
  "kernelspec": {
   "display_name": "Python 3 (ipykernel)",
   "language": "python",
   "name": "python3"
  },
  "language_info": {
   "codemirror_mode": {
    "name": "ipython",
    "version": 3
   },
   "file_extension": ".py",
   "mimetype": "text/x-python",
   "name": "python",
   "nbconvert_exporter": "python",
   "pygments_lexer": "ipython3",
   "version": "3.10.9"
  }
 },
 "nbformat": 4,
 "nbformat_minor": 5
}
